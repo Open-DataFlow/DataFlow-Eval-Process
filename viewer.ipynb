{
 "cells": [
  {
   "cell_type": "code",
   "execution_count": 1,
   "metadata": {},
   "outputs": [
    {
     "data": {
      "text/html": [
       "<div>\n",
       "<style scoped>\n",
       "    .dataframe tbody tr th:only-of-type {\n",
       "        vertical-align: middle;\n",
       "    }\n",
       "\n",
       "    .dataframe tbody tr th {\n",
       "        vertical-align: top;\n",
       "    }\n",
       "\n",
       "    .dataframe thead th {\n",
       "        text-align: right;\n",
       "    }\n",
       "</style>\n",
       "<table border=\"1\" class=\"dataframe\">\n",
       "  <thead>\n",
       "    <tr style=\"text-align: right;\">\n",
       "      <th></th>\n",
       "      <th>prompt</th>\n",
       "    </tr>\n",
       "  </thead>\n",
       "  <tbody>\n",
       "    <tr>\n",
       "      <th>0</th>\n",
       "      <td>Diana and Apollo participate in a raffle in wh...</td>\n",
       "    </tr>\n",
       "    <tr>\n",
       "      <th>1</th>\n",
       "      <td>Two players, Emma and Liam, each spin a fair s...</td>\n",
       "    </tr>\n",
       "    <tr>\n",
       "      <th>2</th>\n",
       "      <td>Let f(x) = A·x + B be a linear function with A...</td>\n",
       "    </tr>\n",
       "    <tr>\n",
       "      <th>3</th>\n",
       "      <td>Let f(x) = a·x² – (40a⁄3)·x + c with a &gt; 0 and...</td>\n",
       "    </tr>\n",
       "    <tr>\n",
       "      <th>4</th>\n",
       "      <td>At an art contest, 5 judges (J1, J2, J3, J4, a...</td>\n",
       "    </tr>\n",
       "  </tbody>\n",
       "</table>\n",
       "</div>"
      ],
      "text/plain": [
       "                                              prompt\n",
       "0  Diana and Apollo participate in a raffle in wh...\n",
       "1  Two players, Emma and Liam, each spin a fair s...\n",
       "2  Let f(x) = A·x + B be a linear function with A...\n",
       "3  Let f(x) = a·x² – (40a⁄3)·x + c with a > 0 and...\n",
       "4  At an art contest, 5 judges (J1, J2, J3, J4, a..."
      ]
     },
     "execution_count": 1,
     "metadata": {},
     "output_type": "execute_result"
    }
   ],
   "source": [
    "import pandas as pd\n",
    "df = pd.read_json(\"/root/workspace/culfjk4p420c73amv510/herunming/DataFlow/Bigmath_synth_3_o3_mini_questionlist.jsonl\",lines=True)\n",
    "df.head()"
   ]
  },
  {
   "cell_type": "code",
   "execution_count": 3,
   "metadata": {},
   "outputs": [],
   "source": [
    "# 去掉prompt 为空的行\n",
    "df = df[df[\"prompt\"].notna()]"
   ]
  },
  {
   "cell_type": "code",
   "execution_count": 4,
   "metadata": {},
   "outputs": [
    {
     "data": {
      "text/plain": [
       "(39991, 1)"
      ]
     },
     "execution_count": 4,
     "metadata": {},
     "output_type": "execute_result"
    }
   ],
   "source": [
    "df.shape"
   ]
  },
  {
   "cell_type": "code",
   "execution_count": 5,
   "metadata": {},
   "outputs": [],
   "source": [
    "df.to_json(\"/root/workspace/culfjk4p420c73amv510/herunming/DataFlow/Bigmath_synth_3_o3_mini_questionlist.jsonl\",orient=\"records\",lines=True,force_ascii=False)"
   ]
  },
  {
   "cell_type": "code",
   "execution_count": 3,
   "metadata": {},
   "outputs": [
    {
     "data": {
      "text/html": [
       "<div>\n",
       "<style scoped>\n",
       "    .dataframe tbody tr th:only-of-type {\n",
       "        vertical-align: middle;\n",
       "    }\n",
       "\n",
       "    .dataframe tbody tr th {\n",
       "        vertical-align: top;\n",
       "    }\n",
       "\n",
       "    .dataframe thead th {\n",
       "        text-align: right;\n",
       "    }\n",
       "</style>\n",
       "<table border=\"1\" class=\"dataframe\">\n",
       "  <thead>\n",
       "    <tr style=\"text-align: right;\">\n",
       "      <th></th>\n",
       "      <th>generated_question</th>\n",
       "      <th>pseudo_correct_solution_example</th>\n",
       "      <th>pseudo_answer_value</th>\n",
       "    </tr>\n",
       "  </thead>\n",
       "  <tbody>\n",
       "    <tr>\n",
       "      <th>0</th>\n",
       "      <td>A company produces widgets, and the production...</td>\n",
       "      <td>To find the common difference \\( d \\), we begi...</td>\n",
       "      <td>0.01125</td>\n",
       "    </tr>\n",
       "    <tr>\n",
       "      <th>1</th>\n",
       "      <td>A bird sanctuary features several species of b...</td>\n",
       "      <td>Let's define variables to solve the problem:\\n...</td>\n",
       "      <td>7</td>\n",
       "    </tr>\n",
       "    <tr>\n",
       "      <th>2</th>\n",
       "      <td>Sarah invests $500 in a savings account that o...</td>\n",
       "      <td>To find the balance \\( X \\) at the end of 3 ye...</td>\n",
       "      <td>19.56</td>\n",
       "    </tr>\n",
       "    <tr>\n",
       "      <th>3</th>\n",
       "      <td>A company's monthly profit, P(x), in thousands...</td>\n",
       "      <td>Let's analyze the problem and solve step by st...</td>\n",
       "      <td>0</td>\n",
       "    </tr>\n",
       "    <tr>\n",
       "      <th>4</th>\n",
       "      <td>A city park is planning to build a skate ramp....</td>\n",
       "      <td>First, let's calculate the total additions to ...</td>\n",
       "      <td>104</td>\n",
       "    </tr>\n",
       "  </tbody>\n",
       "</table>\n",
       "</div>"
      ],
      "text/plain": [
       "                                  generated_question  \\\n",
       "0  A company produces widgets, and the production...   \n",
       "1  A bird sanctuary features several species of b...   \n",
       "2  Sarah invests $500 in a savings account that o...   \n",
       "3  A company's monthly profit, P(x), in thousands...   \n",
       "4  A city park is planning to build a skate ramp....   \n",
       "\n",
       "                     pseudo_correct_solution_example pseudo_answer_value  \n",
       "0  To find the common difference \\( d \\), we begi...             0.01125  \n",
       "1  Let's define variables to solve the problem:\\n...                   7  \n",
       "2  To find the balance \\( X \\) at the end of 3 ye...               19.56  \n",
       "3  Let's analyze the problem and solve step by st...                   0  \n",
       "4  First, let's calculate the total additions to ...                 104  "
      ]
     },
     "execution_count": 3,
     "metadata": {},
     "output_type": "execute_result"
    }
   ],
   "source": [
    "# 保留[\"generated_question\",\"pseudo_correct_solution_example\",\"pseudo_answer_value\"]\n",
    "df = df[[\"generated_question\",\"pseudo_correct_solution_example\",\"pseudo_answer_value\"]]\n",
    "df.head()"
   ]
  },
  {
   "cell_type": "code",
   "execution_count": 4,
   "metadata": {},
   "outputs": [],
   "source": [
    "df.to_json(\"/root/workspace/culfjk4p420c73amv510/herunming/Bigmath_synth_20000.jsonl\",lines=True,orient=\"records\")"
   ]
  },
  {
   "cell_type": "code",
   "execution_count": 1,
   "metadata": {},
   "outputs": [],
   "source": [
    "import pandas as pd\n",
    "\n",
    "df = pd.read_json(\"/root/workspace/culfjk4p420c73amv510/herunming/DataFlow/demos/demos_result/math/pipeline_Q/Corrected_step2.jsonl\",lines=True)"
   ]
  }
 ],
 "metadata": {
  "kernelspec": {
   "display_name": "base",
   "language": "python",
   "name": "python3"
  },
  "language_info": {
   "codemirror_mode": {
    "name": "ipython",
    "version": 3
   },
   "file_extension": ".py",
   "mimetype": "text/x-python",
   "name": "python",
   "nbconvert_exporter": "python",
   "pygments_lexer": "ipython3",
   "version": "3.11.9"
  }
 },
 "nbformat": 4,
 "nbformat_minor": 2
}
