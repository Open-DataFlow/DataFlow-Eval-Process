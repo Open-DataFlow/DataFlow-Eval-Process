{
 "cells": [
  {
   "cell_type": "markdown",
   "metadata": {},
   "source": [
    "### Video Data Process Methods\n",
    "\n",
    "The evaluation methods for video data mainly fall into the following categories:\n",
    "- Motion Score\n",
    "- DL-based Score\n",
    "- CLIP-based Score\n",
    "\n",
    "For detailed configuration examples, please refer to the file `configs/video_process.yaml`. Below is a simple format for a YAML configuration file (`./video_process.yaml`):\n",
    "\n",
    "```yaml\n",
    "model_cache_path: '../ckpt' # Path to cache models\n",
    "num_workers: 2\n",
    "dependencies: [video]\n",
    "save_path: './example.jsonl'\n",
    "data:\n",
    "  video:\n",
    "    meta_data_path: 'demos/video_process/video5data.json' # Path to meta data (mainly for image or video data)\n",
    "    data_path: 'demos/video_process/' # Path to dataset\n",
    "    formatter: 'PureVideoFormatter' # Specify the data formatter\n",
    "```\n",
    "\n",
    "The `data` section specifies the paths and relevant configurations for the data files or folders.\n",
    "\n",
    "```yaml\n",
    "processors:\n",
    "  VideoResolutionFilter:\n",
    "    min_width: 160\n",
    "    max_width: 7680\n",
    "    min_height: 120\n",
    "    max_height: 4320\n",
    "    scorer_args:\n",
    "      num_workers: 4\n",
    "      batch_size: 1\n",
    "  VideoMotionFilter:                              # Keep samples with video motion scores within a specific range.\n",
    "    min_score: 0.25                                         # the minimum motion score to keep samples\n",
    "    max_score: 10                                     # the maximum motion score to keep samples\n",
    "    scorer_args:\n",
    "      batch_size: 1\n",
    "      num_workers: 4\n",
    "      min_score: 0.25                                         # the minimum motion score to keep samples\n",
    "      max_score: 10000.0                                      # the maximum motion score to keep samples\n",
    "      sampling_fps: 2                                         # the samplig rate of frames_per_second to compute optical flow\n",
    "      size: null                                              # resize frames along the smaller edge before computing optical flow, or a sequence like (h, w)\n",
    "      max_size: null                                          # maximum allowed for the longer edge of resized frames\n",
    "      relative: false                                         # whether to normalize the optical flow magnitude to [0, 1], relative to the frame's diagonal length\n",
    "      any_or_all: any                                         # keep this sample when any/all videos meet the filter condition\n",
    "```\n",
    "\n",
    "The `processors` section defines the parameter configurations for the scorers in use."
   ]
  },
  {
   "cell_type": "code",
   "execution_count": null,
   "metadata": {},
   "outputs": [
    {
     "name": "stderr",
     "output_type": "stream",
     "text": [
      "/mnt/petrelfs/mengzimo/miniconda3/envs/datagym/lib/python3.9/site-packages/torch/cuda/__init__.py:654: UserWarning: Can't initialize NVML\n",
      "  warnings.warn(\"Can't initialize NVML\")\n"
     ]
    }
   ],
   "source": [
    "import sys\n",
    "import os\n",
    "\n",
    "dataflow_path = os.path.abspath(os.path.join(os.getcwd(), '..', '..')) \n",
    "sys.path.insert(0, dataflow_path)\n",
    "sys.argv = ['notebook', '--config', './demos/video_process/video_process.yaml']\n",
    "\n",
    "target_dir = os.path.abspath('../..')  # get target dir abs path\n",
    "current_dir = os.getcwd()\n",
    "\n",
    "if current_dir != target_dir:\n",
    "    os.chdir(target_dir)  # change when not current dir\n",
    "\n",
    "\n",
    "import dataflow\n",
    "from dataflow.utils import process"
   ]
  },
  {
   "cell_type": "code",
   "execution_count": 2,
   "metadata": {},
   "outputs": [
    {
     "name": "stdout",
     "output_type": "stream",
     "text": [
      "VideoResolutionFilter {'min_width': 160, 'max_width': 7680, 'min_height': 120, 'max_height': 4320, 'scorer_args': {'num_workers': 4, 'batch_size': 1}, 'num_workers': 2, 'model_cache_dir': '../ckpt'}\n",
      "Module dataflow.process.text.refiners has no attribute VideoResolutionFilter\n",
      "Module dataflow.process.text.filters has no attribute VideoResolutionFilter\n",
      "Module dataflow.process.text.deduplicators has no attribute VideoResolutionFilter\n",
      "Module dataflow.process.image.filters has no attribute VideoResolutionFilter\n",
      "Module dataflow.process.image.deduplicators has no attribute VideoResolutionFilter\n",
      "{'width': array([960., 960., 960., 960., 960.]), 'height': array([540., 540., 540., 540., 540.])}\n",
      "[0, 1, 2, 3, 4]\n",
      "VideoMotionFilter {'min_score': 0.25, 'max_score': 10, 'scorer_args': {'batch_size': 1, 'num_workers': 4, 'min_score': 0.25, 'max_score': 10000.0, 'sampling_fps': 2, 'size': None, 'max_size': None, 'relative': False, 'any_or_all': 'any'}, 'num_workers': 2, 'model_cache_dir': '../ckpt'}\n",
      "Module dataflow.process.text.refiners has no attribute VideoMotionFilter\n",
      "Module dataflow.process.text.filters has no attribute VideoMotionFilter\n",
      "Module dataflow.process.text.deduplicators has no attribute VideoMotionFilter\n",
      "Module dataflow.process.image.filters has no attribute VideoMotionFilter\n",
      "Module dataflow.process.image.deduplicators has no attribute VideoMotionFilter\n",
      "[1, 2, 3, 4]\n",
      "Data saved to ./example.jsonl\n"
     ]
    }
   ],
   "source": [
    "process()"
   ]
  }
 ],
 "metadata": {
  "kernelspec": {
   "display_name": "datagym",
   "language": "python",
   "name": "python3"
  },
  "language_info": {
   "codemirror_mode": {
    "name": "ipython",
    "version": 3
   },
   "file_extension": ".py",
   "mimetype": "text/x-python",
   "name": "python",
   "nbconvert_exporter": "python",
   "pygments_lexer": "ipython3",
   "version": "3.9.19"
  }
 },
 "nbformat": 4,
 "nbformat_minor": 2
}
