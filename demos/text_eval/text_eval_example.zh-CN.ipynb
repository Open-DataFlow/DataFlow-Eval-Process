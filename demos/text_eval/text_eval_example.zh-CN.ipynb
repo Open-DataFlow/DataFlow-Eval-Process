{
 "cells": [
  {
   "cell_type": "markdown",
   "metadata": {},
   "source": [
    "### 文本数据评估使用方法\n",
    "\n",
    "文本数据评估的方法：\n",
    "[评估算法文档](../../docs/text_metrics.zh-CN.md)\n",
    "\n",
    "下面是一个简单的yaml配置文件（`configs/eval/text_scorer_pt_example1.yaml`的格式）:\n",
    "\n",
    "```yaml\n",
    "# 只列出了部分打分器，全部打分器请参考all_scorers.yaml\n",
    "\n",
    "model_cache_path: '../ckpt' # 模型缓存路径\n",
    "dependencies: [text]\n",
    "save_path: './scores.json'\n",
    "\n",
    "data:\n",
    "  text:\n",
    "    use_hf: False # 是否使用huggingface_dataset，如果使用则忽略下方本地数据地址；否则直接设置下面的data_path本地地址即可\n",
    "    dataset_name: 'yahma/alpaca-cleaned'\n",
    "    dataset_split: 'train'  \n",
    "    name: 'default' \n",
    "    revision: null\n",
    "    data_path: 'demos/text_eval/fineweb_5_samples.json'  # 本地数据地址，支持json、jsonl、parquet格式\n",
    "    formatter: \"TextFormatter\" # 数据加载器类型\n",
    "\n",
    "    keys: 'text' # 待评估的键名，对于sft数据，可指定为['instruction','input','output']\n",
    "```\n",
    "\n",
    "`data`部分指定了数据文件/文件夹的路径及相关配置\n",
    "\n",
    "```yaml \n",
    "scorers: # 可从all_scorers.yaml中选择多个text打分器，将其配置信息放入即可\n",
    "  NgramScorer:\n",
    "      ngrams: 5\n",
    "  LexicalDiversityScorer:\n",
    "    metrics_to_keep:\n",
    "      mtld: True\n",
    "      hdd: True\n",
    "            \n",
    "```\n",
    "`scorers`下的配置指定了使用的打分器的参数配置"
   ]
  },
  {
   "cell_type": "code",
   "execution_count": 1,
   "metadata": {},
   "outputs": [
    {
     "name": "stderr",
     "output_type": "stream",
     "text": [
      "/mnt/petrelfs/zhaozhengyang/miniconda3/envs/datagym/lib/python3.9/site-packages/torch/cuda/__init__.py:654: UserWarning: Can't initialize NVML\n",
      "  warnings.warn(\"Can't initialize NVML\")\n"
     ]
    }
   ],
   "source": [
    "\n",
    "import sys\n",
    "import os\n",
    "\n",
    "target_dir = os.path.abspath('../..') \n",
    "current_dir = os.getcwd()\n",
    "\n",
    "if current_dir != target_dir:\n",
    "    os.chdir(target_dir)  \n",
    "\n",
    "dataflow_path = os.path.abspath(os.path.join(os.getcwd(), '..', '..')) \n",
    "sys.path.insert(0, dataflow_path)\n",
    "sys.argv = ['notebook', '--config', 'configs/eval/text_scorer_pt_example1.yaml']\n",
    "\n",
    "from dataflow.utils.utils import calculate_score"
   ]
  },
  {
   "cell_type": "code",
   "execution_count": 2,
   "metadata": {},
   "outputs": [
    {
     "name": "stdout",
     "output_type": "stream",
     "text": [
      "NgramScorer {'ngrams': 5, 'num_workers': 1, 'model_cache_dir': '../ckpt'}\n"
     ]
    },
    {
     "name": "stderr",
     "output_type": "stream",
     "text": [
      "Evaluating NgramScore: 100%|██████████| 5/5 [00:01<00:00,  4.93it/s]\n"
     ]
    },
    {
     "name": "stdout",
     "output_type": "stream",
     "text": [
      "LexicalDiversityScorer {'metrics_to_keep': {'mtld': True, 'hdd': True}, 'num_workers': 1, 'model_cache_dir': '../ckpt'}\n"
     ]
    },
    {
     "name": "stderr",
     "output_type": "stream",
     "text": [
      "Evaluating LexicalDiversityScore: 100%|██████████| 5/5 [00:01<00:00,  4.84it/s]"
     ]
    },
    {
     "name": "stdout",
     "output_type": "stream",
     "text": [
      "scores_len:5\n",
      "Scores saved to ./scores.json\n"
     ]
    },
    {
     "name": "stderr",
     "output_type": "stream",
     "text": [
      "\n"
     ]
    }
   ],
   "source": [
    "calculate_score()\n"
   ]
  }
 ],
 "metadata": {
  "kernelspec": {
   "display_name": "datagym",
   "language": "python",
   "name": "python3"
  },
  "language_info": {
   "codemirror_mode": {
    "name": "ipython",
    "version": 3
   },
   "file_extension": ".py",
   "mimetype": "text/x-python",
   "name": "python",
   "nbconvert_exporter": "python",
   "pygments_lexer": "ipython3",
   "version": "3.9.19"
  }
 },
 "nbformat": 4,
 "nbformat_minor": 2
}
