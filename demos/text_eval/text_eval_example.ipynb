{
 "cells": [
  {
   "cell_type": "markdown",
   "metadata": {},
   "source": [
    "### Text Data Evaluation Usage\n",
    "\n",
    "The method for evaluating text data:\n",
    "[Evaluation Algorithm Documentation](../../docs/text_metrics.md)\n",
    "\n",
    "Below is a simple YAML configuration file format for `configs/eval/text_scorer_pt_example1.yaml`:\n",
    "\n",
    "```yaml\n",
    "# Only some example scorers are listed here. Please refer to all_scorers.yaml for all scorers\n",
    "\n",
    "model_cache_path: '../ckpt' # cache path for models\n",
    "dependencies: [text]\n",
    "save_path: './scores.json'\n",
    "\n",
    "data:\n",
    "  text:\n",
    "    use_hf: False # Whether to use huggingface_dataset, if used, ignore the local data path below\n",
    "    dataset_name: 'yahma/alpaca-cleaned'\n",
    "    dataset_split: 'train'  \n",
    "    name: 'default' \n",
    "    revision: null\n",
    "    data_path: 'demos/text_eval/fineweb_5_samples.json'  # Local data path, supports json, jsonl, parquet formats\n",
    "    formatter: \"TextFormatter\" # Data loader type\n",
    "\n",
    "    keys: 'text' # Key name to be evaluated, for sft data, it can be specified as ['instruction','input','output']\n",
    "```\n",
    "The `data` section specifies the path and related configurations for the data file/folder.\n",
    "```yaml\n",
    "scorers: # You can select multiple text scorers from all_scorers.yaml and put their configuration information here\n",
    "  NgramScorer:\n",
    "      ngrams: 5\n",
    "  FineWebEduScorer:\n",
    "    model_name: 'HuggingFaceTB/fineweb-edu-classifier'\n",
    "    device: 'cuda:0'\n",
    "```\n",
    "The configuration under  `scorers` specifies the parameter settings for the selected scorers."
   ]
  },
  {
   "cell_type": "code",
   "execution_count": 1,
   "metadata": {},
   "outputs": [
    {
     "name": "stderr",
     "output_type": "stream",
     "text": [
      "/mnt/petrelfs/zhaozhengyang/miniconda3/envs/datagym/lib/python3.9/site-packages/torch/cuda/__init__.py:654: UserWarning: Can't initialize NVML\n",
      "  warnings.warn(\"Can't initialize NVML\")\n"
     ]
    }
   ],
   "source": [
    "\n",
    "import sys\n",
    "import os\n",
    "\n",
    "target_dir = os.path.abspath('../..') \n",
    "current_dir = os.getcwd()\n",
    "\n",
    "if current_dir != target_dir:\n",
    "    os.chdir(target_dir)  \n",
    "\n",
    "dataflow_path = os.path.abspath(os.path.join(os.getcwd(), '..', '..')) \n",
    "sys.path.insert(0, dataflow_path)\n",
    "sys.argv = ['notebook', '--config', 'configs/eval/text_scorer_pt_example1.yaml']\n",
    "\n",
    "from dataflow.utils.utils import calculate_score"
   ]
  },
  {
   "cell_type": "code",
   "execution_count": 2,
   "metadata": {},
   "outputs": [
    {
     "name": "stdout",
     "output_type": "stream",
     "text": [
      "NgramScorer {'ngrams': 5, 'num_workers': 1, 'model_cache_dir': '../ckpt'}\n"
     ]
    },
    {
     "name": "stderr",
     "output_type": "stream",
     "text": [
      "Evaluating NgramScore: 100%|██████████| 5/5 [00:01<00:00,  4.91it/s]\n"
     ]
    },
    {
     "name": "stdout",
     "output_type": "stream",
     "text": [
      "LexicalDiversityScorer {'metrics_to_keep': {'mtld': True, 'hdd': True}, 'num_workers': 1, 'model_cache_dir': '../ckpt'}\n"
     ]
    },
    {
     "name": "stderr",
     "output_type": "stream",
     "text": [
      "Evaluating LexicalDiversityScore: 100%|██████████| 5/5 [00:00<00:00,  5.06it/s]"
     ]
    },
    {
     "name": "stdout",
     "output_type": "stream",
     "text": [
      "scores_len:5\n",
      "Scores saved to ./scores.json\n"
     ]
    },
    {
     "name": "stderr",
     "output_type": "stream",
     "text": [
      "\n"
     ]
    }
   ],
   "source": [
    "calculate_score()\n"
   ]
  }
 ],
 "metadata": {
  "kernelspec": {
   "display_name": "datagym",
   "language": "python",
   "name": "python3"
  },
  "language_info": {
   "codemirror_mode": {
    "name": "ipython",
    "version": 3
   },
   "file_extension": ".py",
   "mimetype": "text/x-python",
   "name": "python",
   "nbconvert_exporter": "python",
   "pygments_lexer": "ipython3",
   "version": "3.9.19"
  }
 },
 "nbformat": 4,
 "nbformat_minor": 2
}
