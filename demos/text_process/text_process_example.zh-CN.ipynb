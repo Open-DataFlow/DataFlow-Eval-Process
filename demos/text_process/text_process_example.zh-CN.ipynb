{
 "cells": [
  {
   "cell_type": "markdown",
   "metadata": {},
   "source": [
    "### 文本数据处理使用方法\n",
    "\n",
    "文本数据处理的方法：\n",
    "[处理器文档](../../docs/text_process.zh-CN.md)\n",
    "\n",
    "下面是一个简单的yaml配置文件（`configs/process/text_process_example.yaml`的格式）:\n",
    "\n",
    "```yaml\n",
    "model_cache_path: '../ckpt' # 模型缓存路径\n",
    "dependencies: [text]\n",
    "save_path: \"./processed.jsonl\"\n",
    "\n",
    "data:\n",
    "  text:\n",
    "    use_hf: False # 是否使用huggingface_dataset，如果使用则忽略下面的本地数据路径\n",
    "    dataset_name: 'yahma/alpaca-cleaned'\n",
    "    dataset_split: 'train'  \n",
    "    name: 'default' \n",
    "    revision: null\n",
    "    data_path: 'demos/text_process/fineweb_5_samples.json'  # 本地数据路径，支持json, jsonl, parquet格式\n",
    "    formatter: \"TextFormatter\" # 数据加载器类型\n",
    "\n",
    "    keys: 'text' # 要处理的键名，对于sft数据，可以指定为 ['instruction','input','output']\n",
    "\n",
    "\n",
    "```\n",
    "\n",
    "`data`部分指定了数据文件/文件夹的路径及相关配置\n",
    "\n",
    "```yaml \n",
    "\n",
    "processors:\n",
    "  RemoveExtraSpacesRefiner: {}\n",
    "  CCNetDeduplicator: \n",
    "    bit_length: 64 \n",
    "  NgramFilter:\n",
    "    min_score: 0.99\n",
    "    max_score: 1.0\n",
    "    scorer_args:\n",
    "      ngrams: 5\n",
    "            \n",
    "```\n",
    "`processors`下的配置指定了使用的处理器的参数配置"
   ]
  },
  {
   "cell_type": "code",
   "execution_count": 1,
   "metadata": {},
   "outputs": [
    {
     "name": "stderr",
     "output_type": "stream",
     "text": [
      "/mnt/petrelfs/zhaozhengyang/miniconda3/envs/datagym/lib/python3.9/site-packages/torch/cuda/__init__.py:654: UserWarning: Can't initialize NVML\n",
      "  warnings.warn(\"Can't initialize NVML\")\n"
     ]
    }
   ],
   "source": [
    "\n",
    "import sys\n",
    "import os\n",
    "\n",
    "target_dir = os.path.abspath('../..') \n",
    "current_dir = os.getcwd()\n",
    "\n",
    "if current_dir != target_dir:\n",
    "    os.chdir(target_dir)  \n",
    "    \n",
    "dataflow_path = os.path.abspath(os.path.join(os.getcwd(), '..', '..')) \n",
    "sys.path.insert(0, dataflow_path)\n",
    "sys.argv = ['notebook', '--config', 'configs/process/text_process_example.yaml']\n",
    "\n",
    "from dataflow.utils.utils import process"
   ]
  },
  {
   "cell_type": "code",
   "execution_count": 2,
   "metadata": {},
   "outputs": [
    {
     "name": "stdout",
     "output_type": "stream",
     "text": [
      "RemoveExtraSpacesRefiner {'num_workers': 1, 'model_cache_dir': '../ckpt'}\n"
     ]
    },
    {
     "name": "stderr",
     "output_type": "stream",
     "text": [
      "Implementing RemoveExtraSpacesRefiner: 100%|██████████| 5/5 [00:00<00:00, 1899.59it/s]"
     ]
    },
    {
     "name": "stdout",
     "output_type": "stream",
     "text": [
      "Implemented RemoveExtraSpacesRefiner. 4 data refined.\n",
      "CCNetDeduplicator {'bit_length': 64, 'num_workers': 1, 'model_cache_dir': '../ckpt'}\n"
     ]
    },
    {
     "name": "stderr",
     "output_type": "stream",
     "text": [
      "\n"
     ]
    },
    {
     "name": "stdout",
     "output_type": "stream",
     "text": [
      "Module dataflow.process.text.refiners has no attribute CCNetDeduplicator\n",
      "Module dataflow.process.text.filters has no attribute CCNetDeduplicator\n"
     ]
    },
    {
     "name": "stderr",
     "output_type": "stream",
     "text": [
      "Implementing CCNetDeduplicator: 100%|██████████| 5/5 [00:00<00:00, 15984.39it/s]"
     ]
    },
    {
     "name": "stdout",
     "output_type": "stream",
     "text": [
      "Implemented CCNetDeduplicator. Data Number: 5 -> 4\n",
      "NgramFilter {'min_score': 0.99, 'max_score': 1.0, 'scorer_args': {'ngrams': 5}, 'num_workers': 1, 'model_cache_dir': '../ckpt'}\n"
     ]
    },
    {
     "name": "stderr",
     "output_type": "stream",
     "text": [
      "\n"
     ]
    },
    {
     "name": "stdout",
     "output_type": "stream",
     "text": [
      "Module dataflow.process.text.refiners has no attribute NgramFilter\n"
     ]
    },
    {
     "name": "stderr",
     "output_type": "stream",
     "text": [
      "Evaluating NgramScore: 100%|██████████| 4/4 [00:00<00:00, 330.78it/s]"
     ]
    },
    {
     "name": "stdout",
     "output_type": "stream",
     "text": [
      "Implemented NgramFilter. Data Number: 4 -> 3\n",
      "Data saved to ./processed.jsonl\n"
     ]
    },
    {
     "name": "stderr",
     "output_type": "stream",
     "text": [
      "\n"
     ]
    }
   ],
   "source": [
    "process()\n"
   ]
  }
 ],
 "metadata": {
  "kernelspec": {
   "display_name": "datagym",
   "language": "python",
   "name": "python3"
  },
  "language_info": {
   "codemirror_mode": {
    "name": "ipython",
    "version": 3
   },
   "file_extension": ".py",
   "mimetype": "text/x-python",
   "name": "python",
   "nbconvert_exporter": "python",
   "pygments_lexer": "ipython3",
   "version": "3.9.19"
  }
 },
 "nbformat": 4,
 "nbformat_minor": 2
}
