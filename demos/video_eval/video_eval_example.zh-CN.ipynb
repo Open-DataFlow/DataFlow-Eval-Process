{
 "cells": [
  {
   "cell_type": "markdown",
   "metadata": {},
   "source": [
    "### 视频数据评估使用方法\n",
    "\n",
    "视频数据主要有以下几类评估方法：\n",
    "- Motion Score\n",
    "- DL-based Score\n",
    "- CLIP-based Score\n",
    "\n",
    "详细的示例配置文件请见configs/video_score.yaml\n",
    "下面是一个简单的yaml配置文件(./video_eval.yaml)的格式:\n",
    "\n",
    "```\n",
    "model_cache_path: '../ckpt' # Path to cache models\n",
    "num_workers: 2\n",
    "\n",
    "data:\n",
    "  video:\n",
    "    meta_data_path: './video.json' # Path to meta data (mainly for image or video data)\n",
    "    data_path: './' # Path to dataset\n",
    "    formatter: 'PureVideoFormatter' # formatter for pure video evaluation\n",
    "```\n",
    "data部分指定了数据文件/文件夹的路径及相关配置\n",
    "\n",
    "```\n",
    "scorers:\n",
    "  VideoMotionScorer:                              # Keep samples with video motion scores within a specific range.\n",
    "      batch_size: 1\n",
    "      num_workers: 4\n",
    "      min_score: 0.25                                         # the minimum motion score to keep samples\n",
    "      max_score: 10000.0                                      # the maximum motion score to keep samples\n",
    "      sampling_fps: 2                                         # the samplig rate of frames_per_second to compute optical flow\n",
    "      size: null                                              # resize frames along the smaller edge before computing optical flow, or a sequence like (h, w)\n",
    "      max_size: null                                          # maximum allowed for the longer edge of resized frames\n",
    "      relative: false                                         # whether to normalize the optical flow magnitude to [0, 1], relative to the frame's diagonal length\n",
    "      any_or_all: any                                         # keep this sample when any/all videos meet the filter condition\n",
    "            \n",
    "```\n",
    "scorers下的配置指定了使用的打分器的参数配置"
   ]
  },
  {
   "cell_type": "code",
   "execution_count": 2,
   "metadata": {},
   "outputs": [
    {
     "name": "stderr",
     "output_type": "stream",
     "text": [
      "/mnt/petrelfs/mengzimo/miniconda3/envs/datagym/lib/python3.9/site-packages/torch/cuda/__init__.py:654: UserWarning: Can't initialize NVML\n",
      "  warnings.warn(\"Can't initialize NVML\")\n",
      "/mnt/petrelfs/mengzimo/miniconda3/envs/datagym/lib/python3.9/site-packages/torch/amp/autocast_mode.py:265: UserWarning: User provided device_type of 'cuda', but CUDA is not available. Disabling\n",
      "  warnings.warn(\n",
      "/mnt/petrelfs/mengzimo/miniconda3/envs/datagym/lib/python3.9/site-packages/torch/cuda/__init__.py:654: UserWarning: Can't initialize NVML\n",
      "  warnings.warn(\"Can't initialize NVML\")\n"
     ]
    }
   ],
   "source": [
    "import sys\n",
    "import os\n",
    "\n",
    "dataflow_path = os.path.abspath(os.path.join(os.getcwd(), '..', '..')) \n",
    "sys.path.insert(0, dataflow_path)\n",
    "sys.argv = ['notebook', '--config', './video_eval.yaml']\n",
    "\n",
    "import dataflow\n",
    "from dataflow.utils import calculate_score"
   ]
  },
  {
   "cell_type": "code",
   "execution_count": 3,
   "metadata": {},
   "outputs": [
    {
     "name": "stdout",
     "output_type": "stream",
     "text": [
      "VideoMotionScorer {'batch_size': 1, 'num_workers': 2, 'min_score': 0.25, 'max_score': 10000.0, 'sampling_fps': 2, 'size': None, 'max_size': None, 'relative': False, 'any_or_all': 'any', 'model_cache_dir': '../ckpt'}\n",
      "{'Default': array([0.68421292, 8.97200489])}\n",
      "scores_len:2\n",
      "{'meta_scores': {}, 'item_scores': {'0': {'VideoMotionScorer': {'Default': 0.6842129230499268}}, '1': {'VideoMotionScorer': {'Default': 8.972004890441895}}}}\n"
     ]
    }
   ],
   "source": [
    "calculate_score()"
   ]
  }
 ],
 "metadata": {
  "kernelspec": {
   "display_name": "datagym",
   "language": "python",
   "name": "python3"
  },
  "language_info": {
   "codemirror_mode": {
    "name": "ipython",
    "version": 3
   },
   "file_extension": ".py",
   "mimetype": "text/x-python",
   "name": "python",
   "nbconvert_exporter": "python",
   "pygments_lexer": "ipython3",
   "version": "3.9.19"
  }
 },
 "nbformat": 4,
 "nbformat_minor": 2
}
