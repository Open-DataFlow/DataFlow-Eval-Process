{
 "cells": [
  {
   "cell_type": "markdown",
   "metadata": {},
   "source": [
    "### Video Data Evaluation Methods\n",
    "\n",
    "The evaluation methods for video data mainly fall into the following categories:\n",
    "- Motion Score\n",
    "- DL-based Score\n",
    "- CLIP-based Score\n",
    "\n",
    "For detailed configuration examples, please refer to the file `configs/video_score.yaml`. Below is a simple format for a YAML configuration file (`./video_eval.yaml`):\n",
    "\n",
    "```yaml\n",
    "model_cache_path: '../ckpt' # Path to cache models\n",
    "num_workers: 2\n",
    "\n",
    "data:\n",
    "  video:\n",
    "    meta_data_path: './video.json' # Path to meta data (mainly for image or video data)\n",
    "    data_path: './' # Path to dataset\n",
    "    formatter: 'PureVideoFormatter' # Formatter for pure video evaluation\n",
    "```\n",
    "\n",
    "The `data` section specifies the paths and relevant configurations for the data files or folders.\n",
    "\n",
    "```yaml\n",
    "scorers:\n",
    "  VideoMotionScorer:                              # Retain samples with video motion scores within a specific range.\n",
    "      batch_size: 1\n",
    "      num_workers: 4\n",
    "      min_score: 0.25                             # Minimum motion score to retain samples\n",
    "      max_score: 10000.0                          # Maximum motion score to retain samples\n",
    "      sampling_fps: 2                             # Sampling rate of frames per second for computing optical flow\n",
    "      size: null                                  # Resize frames along the smaller edge before computing optical flow, or a sequence like (h, w)\n",
    "      max_size: null                              # Maximum allowed size for the longer edge of resized frames\n",
    "      relative: false                             # Whether to normalize the optical flow magnitude to [0, 1], relative to the frame's diagonal length\n",
    "      any_or_all: any                             # Retain the sample when any/all videos meet the filter condition\n",
    "```\n",
    "\n",
    "The `scorers` section defines the parameter configurations for the scorers in use."
   ]
  },
  {
   "cell_type": "code",
   "execution_count": 1,
   "metadata": {},
   "outputs": [
    {
     "name": "stderr",
     "output_type": "stream",
     "text": [
      "/mnt/petrelfs/mengzimo/miniconda3/envs/datagym/lib/python3.9/site-packages/torch/cuda/__init__.py:654: UserWarning: Can't initialize NVML\n",
      "  warnings.warn(\"Can't initialize NVML\")\n",
      "/mnt/petrelfs/mengzimo/miniconda3/envs/datagym/lib/python3.9/site-packages/torch/amp/autocast_mode.py:265: UserWarning: User provided device_type of 'cuda', but CUDA is not available. Disabling\n",
      "  warnings.warn(\n",
      "/mnt/petrelfs/mengzimo/miniconda3/envs/datagym/lib/python3.9/site-packages/torch/cuda/__init__.py:654: UserWarning: Can't initialize NVML\n",
      "  warnings.warn(\"Can't initialize NVML\")\n"
     ]
    }
   ],
   "source": [
    "import sys\n",
    "import os\n",
    "\n",
    "dataflow_path = os.path.abspath(os.path.join(os.getcwd(), '..', '..')) \n",
    "sys.path.insert(0, dataflow_path)\n",
    "sys.argv = ['notebook', '--config', './video_eval.yaml']\n",
    "\n",
    "import dataflow\n",
    "from dataflow.utils import calculate_score"
   ]
  },
  {
   "cell_type": "code",
   "execution_count": 2,
   "metadata": {},
   "outputs": [
    {
     "name": "stdout",
     "output_type": "stream",
     "text": [
      "VideoMotionScorer {'batch_size': 1, 'num_workers': 2, 'min_score': 0.25, 'max_score': 10000.0, 'sampling_fps': 2, 'size': None, 'max_size': None, 'relative': False, 'any_or_all': 'any', 'model_cache_dir': '../ckpt'}\n",
      "{'Default': array([0.68421292, 8.97200489])}\n",
      "scores_len:2\n",
      "{'meta_scores': {}, 'item_scores': {'0': {'VideoMotionScorer': {'Default': 0.6842129230499268}}, '1': {'VideoMotionScorer': {'Default': 8.972004890441895}}}}\n"
     ]
    }
   ],
   "source": [
    "calculate_score()"
   ]
  }
 ],
 "metadata": {
  "kernelspec": {
   "display_name": "datagym",
   "language": "python",
   "name": "python3"
  },
  "language_info": {
   "codemirror_mode": {
    "name": "ipython",
    "version": 3
   },
   "file_extension": ".py",
   "mimetype": "text/x-python",
   "name": "python",
   "nbconvert_exporter": "python",
   "pygments_lexer": "ipython3",
   "version": "3.9.19"
  }
 },
 "nbformat": 4,
 "nbformat_minor": 2
}
