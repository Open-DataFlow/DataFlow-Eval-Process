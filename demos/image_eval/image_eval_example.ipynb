{
  "cells": [
    {
      "cell_type": "markdown",
      "metadata": {},
      "source": [
        "## Writing YAML Configuration File"
      ]
    },
    {
      "cell_type": "markdown",
      "metadata": {},
      "source": [
        "For pure image data evaluation, you can write a YAML file in the following format, where the configuration under data specifies the path and related information of the dataset, and the configuration under scorers specifies the evaluation metrics you want to use.\n",
        "```yaml\n",
        "model_cache_path: '../ckpt' # Path to cache models\n",
        "num_workers: 2\n",
        "\n",
        "data:\n",
        "  image:\n",
        "    meta_data_path: \"demos/image_eval/image.json\" # Location of metadata\n",
        "    data_path: \"demos/image_eval/images\" # Location of image data\n",
        "    image_key: 'image' # Key corresponding to the image path (or image name) in the metadata\n",
        "    id_key: 'id' # Key corresponding to id in the metadata\n",
        "    formatter: 'PureImageFormatter' # image data always uses PureImageFormatter\n",
        "\n",
        "scorers:\n",
        "  LiqeScorer:\n",
        "      batch_size: 2\n",
        "      device: \"cuda\"\n",
        "  ArniqaScorer:\n",
        "      batch_size: 2\n",
        "      device: \"cuda\"\n",
        "```\n",
        "The corresponding metadata file (`demos/image_eval/image.json`) is as follows:\n",
        "```json\n",
        "[\n",
        "    {\n",
        "        \"image\": \"10007903636.jpg\"\n",
        "    },\n",
        "    {\n",
        "        \"image\": \"10089027076.jpg\"\n",
        "    }\n",
        "]\n",
        "```"
      ]
    },
    {
      "cell_type": "markdown",
      "metadata": {},
      "source": [
        "Similarly, for an image-caption dataset, you can write a YAML file in the following format, where the configuration under data specifies the path and related information of the dataset, and the configuration under scorers specifies the evaluation metrics you want to use.\n",
        "```yaml\n",
        "model_cache_path: '../ckpt' # Path to cache models\n",
        "num_workers: 2\n",
        "\n",
        "data:\n",
        "  image_caption:\n",
        "    meta_data_path: \"demos/image_eval/image_text.json\" # Location of metadata\n",
        "    data_path: \"demos/image_eval/images\" # Location of image data\n",
        "    image_key: 'image' # Key corresponding to the image path (or image name) in the metadata\n",
        "    image_caption_key: 'caption' # Key corresponding to caption in the metadata\n",
        "    id_key: 'id' # Key corresponding to id in the metadata\n",
        "    formatter: 'ImageCaptionFormatter' # image data always uses ImageCaptionFormatter\n",
        "\n",
        "scorers:\n",
        "  ClipScorer:\n",
        "      batch_size: 2\n",
        "      device: \"cuda\"\n",
        "  LongClipScorer:\n",
        "      model_size: B # For larger models, use L\n",
        "      batch_size: 2\n",
        "      device: \"cuda\"\n",
        "```\n",
        "The corresponding metadata file (`demos/image_eval/image_text.json`) is as follows:\n",
        "```json\n",
        "[\n",
        "    {\n",
        "        \"image\": \"cake.jpg\",\n",
        "        \"caption\": \"a slice of chocolate cake on a white plate with a fork next to it\"\n",
        "    },\n",
        "    {\n",
        "        \"image\": \"cake.jpg\",\n",
        "        \"caption\": \"a strawberry cake placed on the ground\"\n",
        "    },\n",
        "    {\n",
        "        \"image\": \"giraffe.jpg\",\n",
        "        \"caption\": \"a deer eating grass\"\n",
        "    },\n",
        "    {\n",
        "        \"image\": \"giraffe.jpg\",\n",
        "        \"caption\": \"a giraffe reaching up to eat from a tree\"\n",
        "    }\n",
        "]\n",
        "```"
      ]
    },
    {
      "cell_type": "markdown",
      "metadata": {},
      "source": [
        "## Evaluate Dataset"
      ]
    },
    {
      "cell_type": "markdown",
      "metadata": {},
      "source": [
        "After writing the YAML configuration file, call calculate_score() to evaluate the data."
      ]
    },
    {
      "cell_type": "code",
      "execution_count": null,
      "metadata": {},
      "outputs": [],
      "source": [
        "import sys\n",
        "import os\n",
        "\n",
        "target_dir = os.path.abspath('../..') \n",
        "current_dir = os.getcwd()\n",
        "\n",
        "if current_dir != target_dir:\n",
        "    os.chdir(target_dir)  \n",
        "\n",
        "dataflow_path = os.path.abspath(os.path.join(os.getcwd(), '..', '..')) \n",
        "sys.path.insert(0, dataflow_path)\n",
        "sys.argv = ['notebook', '--config', 'configs/eval/image_text_eval_example.yaml']\n",
        "\n",
        "from dataflow.utils.utils import calculate_score"
      ]
    },
    {
      "cell_type": "code",
      "execution_count": null,
      "metadata": {},
      "outputs": [],
      "source": [
        "calculate_score()"
      ]
    }
  ],
  "metadata": {
    "kernelspec": {
      "display_name": "dg3",
      "language": "python",
      "name": "python3"
    },
    "language_info": {
      "codemirror_mode": {
        "name": "ipython",
        "version": 3
      },
      "file_extension": ".py",
      "mimetype": "text/x-python",
      "name": "python",
      "nbconvert_exporter": "python",
      "pygments_lexer": "ipython3",
      "version": "3.9.19"
    }
  },
  "nbformat": 4,
  "nbformat_minor": 2
}
