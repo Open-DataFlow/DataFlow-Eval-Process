{
    "cells": [
      {
        "cell_type": "markdown",
        "metadata": {},
        "source": [
          "## Writing YAML Configuration File"
        ]
      },
      {
        "cell_type": "markdown",
        "metadata": {},
        "source": [
          "For pure image data evaluation, you can write a YAML file in the following format, where the configuration under data specifies the path and related information of the dataset, and the configuration under scorers specifies the evaluation metrics you want to use.\n",
          "```yaml\n",
          "model_cache_path: '../ckpt' # Path to cache models\n",
          "num_workers: 2\n",
          "\n",
          "data:\n",
          "  image:\n",
          "    meta_data_path: \"../data/image_data.json\" # Location of metadata\n",
          "    data_path: \"../data/images\" # Location of image data\n",
          "    image_key: 'image' # Key corresponding to the image path (or image name) in the metadata\n",
          "    id_key: 'id' # Key corresponding to id in the metadata\n",
          "    formatter: 'PureImageFormatter' # image data always uses PureImageFormatter\n",
          "\n",
          "scorers:\n",
          "  LiqeScorer:\n",
          "      batch_size: 2\n",
          "      device: \"cuda\"\n",
          "  ArniqaScorer:\n",
          "      batch_size: 2\n",
          "      device: \"cuda\"\n",
          "```\n",
          "The corresponding metadata file (`../data/image_data.json`) is as follows:\n",
          "```json\n",
          "[\n",
          "    {\n",
          "        \"id\": \"000114\",\n",
          "        \"image\": \"000114.jpg\"\n",
          "    },\n",
          "    {\n",
          "        \"id\": \"000810\",\n",
          "        \"image\": \"000810.jpg\"\n",
          "    }\n",
          "]\n",
          "```"
        ]
      },
      {
        "cell_type": "markdown",
        "metadata": {},
        "source": [
          "Similarly, for an image-caption dataset, you can write a YAML file in the following format, where the configuration under data specifies the path and related information of the dataset, and the configuration under scorers specifies the evaluation metrics you want to use.\n",
          "```yaml\n",
          "model_cache_path: '../ckpt' # Path to cache models\n",
          "num_workers: 2\n",
          "\n",
          "data:\n",
          "  image_caption:\n",
          "    meta_data_path: \"../data/image_caption_data.json\" # Location of metadata\n",
          "    data_path: \"../data/images\" # Location of image data\n",
          "    image_key: 'image' # Key corresponding to the image path (or image name) in the metadata\n",
          "    image_caption_key: 'caption' # Key corresponding to caption in the metadata\n",
          "    id_key: 'id' # Key corresponding to id in the metadata\n",
          "    formatter: 'ImageCaptionFormatter' # image data always uses ImageCaptionFormatter\n",
          "\n",
          "scorers:\n",
          "  ClipScorer:\n",
          "      batch_size: 2\n",
          "      device: \"cuda\"\n",
          "  LongClipScorer:\n",
          "      model_size: B # For larger models, use L\n",
          "      batch_size: 2\n",
          "      device: \"cuda\"\n",
          "```\n",
          "The corresponding metadata file (`../data/image_caption_data.json`) is as follows:\n",
          "```json\n",
          "[\n",
          "    {\n",
          "        \"id\": \"000114\",\n",
          "        \"image\": \"000114.jpg\",\n",
          "        \"caption\": \"an old man\"\n",
          "    },\n",
          "    {\n",
          "        \"id\": \"000810\",\n",
          "        \"image\": \"000810.jpg\",\n",
          "        \"caption\": \"blue sky\"\n",
          "    }\n",
          "]\n",
          "```"
        ]
      },
      {
        "cell_type": "markdown",
        "metadata": {},
        "source": [
          "## Evaluate Dataset"
        ]
      },
      {
        "cell_type": "markdown",
        "metadata": {},
        "source": [
          "After writing the YAML configuration file, call calculate_score() to evaluate the data."
        ]
      },
      {
        "cell_type": "code",
        "execution_count": null,
        "metadata": {},
        "outputs": [],
        "source": [
          "import sys\n",
          "import os\n",
          "dataflow_path = os.path.abspath(os.path.join(os.getcwd(), '..', '..')) \n",
          "sys.path.insert(0, dataflow_path)\n",
          "sys.argv = ['notebook', '--config', 'path/to/scorer_example.yaml']\n",
          "\n",
          "from dataflow.utils.utils import calculate_score\n",
          "calculate_score()"
        ]
      }
    ],
    "metadata": {
      "language_info": {
        "name": "python"
      }
    },
    "nbformat": 4,
    "nbformat_minor": 2
  }