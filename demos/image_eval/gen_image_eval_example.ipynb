{
 "cells": [
  {
   "cell_type": "markdown",
   "metadata": {},
   "source": [
    "#### 生成图片评估使用方法"
   ]
  },
  {
   "cell_type": "markdown",
   "metadata": {},
   "source": [
    "使用时需要指定config，config示例在configs/scorer_example.yaml中。\n",
    "\n",
    "对于生成图片主要使用fid_score, kid_score, is_score三种方法。"
   ]
  },
  {
   "cell_type": "code",
   "execution_count": 1,
   "metadata": {
    "execution": {
     "iopub.execute_input": "2024-09-11T16:44:05.329063Z",
     "iopub.status.busy": "2024-09-11T16:44:05.328767Z",
     "iopub.status.idle": "2024-09-11T16:44:31.432289Z",
     "shell.execute_reply": "2024-09-11T16:44:31.431555Z"
    }
   },
   "outputs": [],
   "source": [
    "import sys\n",
    "import os\n",
    "datagym_path = os.path.abspath(os.path.join(os.getcwd(), '..', '..')) \n",
    "sys.path.insert(0, datagym_path)\n",
    "sys.argv = ['notebook', '--config', '/mnt/petrelfs/chenjingzhou/lz/DataGym/configs/scorer_example.yaml']\n",
    "import datagym\n",
    "from datagym.data.image_dataset import jsonImageDataset"
   ]
  },
  {
   "cell_type": "code",
   "execution_count": 2,
   "metadata": {
    "execution": {
     "iopub.execute_input": "2024-09-11T16:44:31.436093Z",
     "iopub.status.busy": "2024-09-11T16:44:31.435788Z",
     "iopub.status.idle": "2024-09-11T16:44:31.475706Z",
     "shell.execute_reply": "2024-09-11T16:44:31.475150Z"
    }
   },
   "outputs": [
    {
     "name": "stdout",
     "output_type": "stream",
     "text": [
      "metric for image data:\n",
      "['arniqa', 'arniqa-clive', 'arniqa-csiq', 'arniqa-flive', 'arniqa-kadid', 'arniqa-koniq', 'arniqa-live', 'arniqa-spaq', 'arniqa-tid', 'brisque', 'clipiqa', 'clipiqa+', 'clipiqa+_rn50_512', 'clipiqa+_vitL14_512', 'clipscore', 'cnniqa', 'dbcnn', 'entropy', 'fid', 'hyperiqa', 'ilniqe', 'inception_score', 'laion_aes', 'liqe', 'liqe_mix', 'maniqa', 'maniqa-kadid', 'maniqa-koniq', 'maniqa-pipal', 'musiq', 'musiq-ava', 'musiq-koniq', 'musiq-paq2piq', 'musiq-spaq', 'nima', 'nima-koniq', 'nima-spaq', 'nima-vgg16-ava', 'niqe', 'nrqm', 'paq2piq', 'pi', 'qalign', 'topiq_iaa', 'topiq_iaa_res50', 'topiq_nr', 'topiq_nr-face', 'topiq_nr-flive', 'topiq_nr-spaq', 'tres', 'tres-flive', 'tres-koniq', 'unique', 'uranker', 'wadiqam_nr', 'pyiqa', 'fid_score', 'kid_score', 'is_score']\n",
      "metric for image_caption data:\n",
      "['clip', 'longclip', 'vqa_score', 'fleur']\n"
     ]
    }
   ],
   "source": [
    "datagym.list_image_eval_metrics()"
   ]
  },
  {
   "cell_type": "markdown",
   "metadata": {},
   "source": [
    "##### 数据加载\n",
    "对于图片数据集，支持json、jsonl等格式。\n",
    "\n",
    "对于fid和kid，需要传入两个数据集，来计算两个数据集间的分数。\n",
    "\n",
    "对于is，只需要传入需要评估的数据集。"
   ]
  },
  {
   "cell_type": "code",
   "execution_count": 3,
   "metadata": {
    "execution": {
     "iopub.execute_input": "2024-09-11T16:44:31.507467Z",
     "iopub.status.busy": "2024-09-11T16:44:31.507013Z",
     "iopub.status.idle": "2024-09-11T16:44:31.520081Z",
     "shell.execute_reply": "2024-09-11T16:44:31.519477Z"
    }
   },
   "outputs": [
    {
     "name": "stdout",
     "output_type": "stream",
     "text": [
      "750 750\n"
     ]
    }
   ],
   "source": [
    "image_folder_path = \"/mnt/petrelfs/chenjingzhou/synth_challenge\"\n",
    "image_dataset1 = jsonImageDataset(\"../../../test_data/data4IS1.jsonl\", image_folder_path)\n",
    "image_dataset2 = jsonImageDataset(\"../../../test_data/data4IS2.jsonl\", image_folder_path)\n",
    "print(len(image_dataset1), len(image_dataset2))"
   ]
  },
  {
   "cell_type": "markdown",
   "metadata": {},
   "source": [
    "##### IS使用示例\n",
    "IS（Inception Score）是一种评估图像生成模型性能的方法。以下代码创建了IS评分器，并对指定的数据集进行了评分。"
   ]
  },
  {
   "cell_type": "code",
   "execution_count": 4,
   "metadata": {
    "execution": {
     "iopub.execute_input": "2024-09-11T16:44:31.522232Z",
     "iopub.status.busy": "2024-09-11T16:44:31.521798Z",
     "iopub.status.idle": "2024-09-11T16:44:55.956491Z",
     "shell.execute_reply": "2024-09-11T16:44:55.955522Z"
    }
   },
   "outputs": [
    {
     "name": "stdout",
     "output_type": "stream",
     "text": [
      "WARNING: You have a CUDA device, so you should probably set cuda=True\n"
     ]
    },
    {
     "name": "stderr",
     "output_type": "stream",
     "text": [
      "/mnt/petrelfs/chenjingzhou/anaconda3/envs/datagym/lib/python3.9/site-packages/torchvision/models/_utils.py:208: UserWarning: The parameter 'pretrained' is deprecated since 0.13 and may be removed in the future, please use 'weights' instead.\n",
      "  warnings.warn(\n",
      "/mnt/petrelfs/chenjingzhou/anaconda3/envs/datagym/lib/python3.9/site-packages/torchvision/models/_utils.py:223: UserWarning: Arguments other than a weight enum or `None` for 'weights' are deprecated since 0.13 and may be removed in the future. The current behavior is equivalent to passing `weights=Inception_V3_Weights.IMAGENET1K_V1`. You can also use `weights=Inception_V3_Weights.DEFAULT` to get the most up-to-date weights.\n",
      "  warnings.warn(msg)\n"
     ]
    },
    {
     "name": "stderr",
     "output_type": "stream",
     "text": [
      "/mnt/petrelfs/chenjingzhou/lz/DataGym/datagym/Eval/image/is_scorer.py:62: UserWarning: Implicit dimension choice for softmax has been deprecated. Change the call to include dim=X as an argument.\n",
      "  return F.softmax(x).data.cpu().numpy()\n"
     ]
    },
    {
     "name": "stdout",
     "output_type": "stream",
     "text": [
      "(IS score) mean: 4.774380493219015, std: 0.2510628162867658\n"
     ]
    }
   ],
   "source": [
    "device=\"cpu\"\n",
    "is_scorer = datagym.get_scorer(\"is_score\", device)\n",
    "score = is_scorer(image_dataset1)\n",
    "print(f'(IS score) mean: {score[0]}, std: {score[1]}')"
   ]
  },
  {
   "cell_type": "markdown",
   "metadata": {},
   "source": [
    "##### FID使用示例\n",
    "\n",
    "FID（Frechet Inception Distance）是通过比较真实图像和生成图像的特征分布差异来评估图像质量的方法。以下代码演示了如何初始化FID评分器，并对两个数据集进行评分。"
   ]
  },
  {
   "cell_type": "code",
   "execution_count": 5,
   "metadata": {
    "execution": {
     "iopub.execute_input": "2024-09-11T16:44:55.959284Z",
     "iopub.status.busy": "2024-09-11T16:44:55.958939Z",
     "iopub.status.idle": "2024-09-11T16:46:12.156305Z",
     "shell.execute_reply": "2024-09-11T16:46:12.154892Z"
    }
   },
   "outputs": [
    {
     "name": "stdout",
     "output_type": "stream",
     "text": [
      "2048\n"
     ]
    },
    {
     "name": "stderr",
     "output_type": "stream",
     "text": [
      "\r\n",
      "  0%|          | 0/15 [00:00<?, ?it/s]"
     ]
    },
    {
     "name": "stderr",
     "output_type": "stream",
     "text": [
      "\r\n",
      "  7%|▋         | 1/15 [00:03<00:45,  3.24s/it]"
     ]
    },
    {
     "name": "stderr",
     "output_type": "stream",
     "text": [
      "\r\n",
      " 13%|█▎        | 2/15 [00:04<00:28,  2.20s/it]"
     ]
    },
    {
     "name": "stderr",
     "output_type": "stream",
     "text": [
      "\r\n",
      " 20%|██        | 3/15 [00:06<00:23,  1.92s/it]"
     ]
    },
    {
     "name": "stderr",
     "output_type": "stream",
     "text": [
      "\r\n",
      " 27%|██▋       | 4/15 [00:07<00:19,  1.78s/it]"
     ]
    },
    {
     "name": "stderr",
     "output_type": "stream",
     "text": [
      "\r\n",
      " 33%|███▎      | 5/15 [00:09<00:17,  1.75s/it]"
     ]
    },
    {
     "name": "stderr",
     "output_type": "stream",
     "text": [
      "\r\n",
      " 40%|████      | 6/15 [00:11<00:15,  1.70s/it]"
     ]
    },
    {
     "name": "stderr",
     "output_type": "stream",
     "text": [
      "\r\n",
      " 47%|████▋     | 7/15 [00:12<00:13,  1.65s/it]"
     ]
    },
    {
     "name": "stderr",
     "output_type": "stream",
     "text": [
      "\r\n",
      " 53%|█████▎    | 8/15 [00:14<00:11,  1.60s/it]"
     ]
    },
    {
     "name": "stderr",
     "output_type": "stream",
     "text": [
      "\r\n",
      " 60%|██████    | 9/15 [00:15<00:09,  1.57s/it]"
     ]
    },
    {
     "name": "stderr",
     "output_type": "stream",
     "text": [
      "\r\n",
      " 67%|██████▋   | 10/15 [00:17<00:07,  1.58s/it]"
     ]
    },
    {
     "name": "stderr",
     "output_type": "stream",
     "text": [
      "\r\n",
      " 73%|███████▎  | 11/15 [00:18<00:06,  1.57s/it]"
     ]
    },
    {
     "name": "stderr",
     "output_type": "stream",
     "text": [
      "\r\n",
      " 80%|████████  | 12/15 [00:20<00:04,  1.59s/it]"
     ]
    },
    {
     "name": "stderr",
     "output_type": "stream",
     "text": [
      "\r\n",
      " 87%|████████▋ | 13/15 [00:22<00:03,  1.59s/it]"
     ]
    },
    {
     "name": "stderr",
     "output_type": "stream",
     "text": [
      "\r\n",
      " 93%|█████████▎| 14/15 [00:23<00:01,  1.58s/it]"
     ]
    },
    {
     "name": "stderr",
     "output_type": "stream",
     "text": [
      "\r\n",
      "100%|██████████| 15/15 [00:25<00:00,  1.57s/it]"
     ]
    },
    {
     "name": "stderr",
     "output_type": "stream",
     "text": [
      "\r\n",
      "100%|██████████| 15/15 [00:25<00:00,  1.70s/it]"
     ]
    },
    {
     "name": "stderr",
     "output_type": "stream",
     "text": [
      "\n"
     ]
    },
    {
     "name": "stderr",
     "output_type": "stream",
     "text": [
      "\r\n",
      "  0%|          | 0/15 [00:00<?, ?it/s]"
     ]
    },
    {
     "name": "stderr",
     "output_type": "stream",
     "text": [
      "\r\n",
      "  7%|▋         | 1/15 [00:02<00:34,  2.47s/it]"
     ]
    },
    {
     "name": "stderr",
     "output_type": "stream",
     "text": [
      "\r\n",
      " 13%|█▎        | 2/15 [00:03<00:24,  1.88s/it]"
     ]
    },
    {
     "name": "stderr",
     "output_type": "stream",
     "text": [
      "\r\n",
      " 20%|██        | 3/15 [00:05<00:20,  1.73s/it]"
     ]
    },
    {
     "name": "stderr",
     "output_type": "stream",
     "text": [
      "\r\n",
      " 27%|██▋       | 4/15 [00:06<00:17,  1.60s/it]"
     ]
    },
    {
     "name": "stderr",
     "output_type": "stream",
     "text": [
      "\r\n",
      " 33%|███▎      | 5/15 [00:08<00:15,  1.53s/it]"
     ]
    },
    {
     "name": "stderr",
     "output_type": "stream",
     "text": [
      "\r\n",
      " 40%|████      | 6/15 [00:09<00:13,  1.53s/it]"
     ]
    },
    {
     "name": "stderr",
     "output_type": "stream",
     "text": [
      "\r\n",
      " 47%|████▋     | 7/15 [00:11<00:12,  1.52s/it]"
     ]
    },
    {
     "name": "stderr",
     "output_type": "stream",
     "text": [
      "\r\n",
      " 53%|█████▎    | 8/15 [00:12<00:10,  1.51s/it]"
     ]
    },
    {
     "name": "stderr",
     "output_type": "stream",
     "text": [
      "\r\n",
      " 60%|██████    | 9/15 [00:14<00:09,  1.53s/it]"
     ]
    },
    {
     "name": "stderr",
     "output_type": "stream",
     "text": [
      "\r\n",
      " 67%|██████▋   | 10/15 [00:15<00:07,  1.52s/it]"
     ]
    },
    {
     "name": "stderr",
     "output_type": "stream",
     "text": [
      "\r\n",
      " 73%|███████▎  | 11/15 [00:17<00:06,  1.50s/it]"
     ]
    },
    {
     "name": "stderr",
     "output_type": "stream",
     "text": [
      "\r\n",
      " 80%|████████  | 12/15 [00:18<00:04,  1.51s/it]"
     ]
    },
    {
     "name": "stderr",
     "output_type": "stream",
     "text": [
      "\r\n",
      " 87%|████████▋ | 13/15 [00:20<00:03,  1.51s/it]"
     ]
    },
    {
     "name": "stderr",
     "output_type": "stream",
     "text": [
      "\r\n",
      " 93%|█████████▎| 14/15 [00:21<00:01,  1.51s/it]"
     ]
    },
    {
     "name": "stderr",
     "output_type": "stream",
     "text": [
      "\r\n",
      "100%|██████████| 15/15 [00:23<00:00,  1.51s/it]"
     ]
    },
    {
     "name": "stderr",
     "output_type": "stream",
     "text": [
      "\r\n",
      "100%|██████████| 15/15 [00:23<00:00,  1.57s/it]"
     ]
    },
    {
     "name": "stderr",
     "output_type": "stream",
     "text": [
      "\n"
     ]
    },
    {
     "name": "stdout",
     "output_type": "stream",
     "text": [
      "(FID score) 64.85169817760624\n"
     ]
    }
   ],
   "source": [
    "fid_scorer = datagym.get_scorer(\"fid_score\", device)\n",
    "score = fid_scorer(image_dataset1, image_dataset2)\n",
    "print(f'(FID score) {score}')"
   ]
  },
  {
   "cell_type": "markdown",
   "metadata": {},
   "source": [
    "##### KID使用示例\n",
    "\n",
    "KID（Kernel Inception Distance）与FID类似，但使用不同的统计方法来评估分布差异。以下代码同样展示了如何进行KID评分的计算。"
   ]
  },
  {
   "cell_type": "code",
   "execution_count": 6,
   "metadata": {
    "execution": {
     "iopub.execute_input": "2024-09-11T16:46:12.159733Z",
     "iopub.status.busy": "2024-09-11T16:46:12.159249Z",
     "iopub.status.idle": "2024-09-11T16:47:35.014244Z",
     "shell.execute_reply": "2024-09-11T16:47:35.013150Z"
    }
   },
   "outputs": [
    {
     "name": "stderr",
     "output_type": "stream",
     "text": [
      "\r\n",
      "  0%|          | 0/15 [00:00<?, ?it/s]"
     ]
    },
    {
     "name": "stderr",
     "output_type": "stream",
     "text": [
      "\r\n",
      "  7%|▋         | 1/15 [00:01<00:20,  1.43s/it]"
     ]
    },
    {
     "name": "stderr",
     "output_type": "stream",
     "text": [
      "\r\n",
      " 13%|█▎        | 2/15 [00:02<00:17,  1.33s/it]"
     ]
    },
    {
     "name": "stderr",
     "output_type": "stream",
     "text": [
      "\r\n",
      " 20%|██        | 3/15 [00:03<00:15,  1.29s/it]"
     ]
    },
    {
     "name": "stderr",
     "output_type": "stream",
     "text": [
      "\r\n",
      " 27%|██▋       | 4/15 [00:05<00:14,  1.28s/it]"
     ]
    },
    {
     "name": "stderr",
     "output_type": "stream",
     "text": [
      "\r\n",
      " 33%|███▎      | 5/15 [00:06<00:12,  1.28s/it]"
     ]
    },
    {
     "name": "stderr",
     "output_type": "stream",
     "text": [
      "\r\n",
      " 40%|████      | 6/15 [00:07<00:11,  1.28s/it]"
     ]
    },
    {
     "name": "stderr",
     "output_type": "stream",
     "text": [
      "\r\n",
      " 47%|████▋     | 7/15 [00:09<00:10,  1.28s/it]"
     ]
    },
    {
     "name": "stderr",
     "output_type": "stream",
     "text": [
      "\r\n",
      " 53%|█████▎    | 8/15 [00:10<00:08,  1.27s/it]"
     ]
    },
    {
     "name": "stderr",
     "output_type": "stream",
     "text": [
      "\r\n",
      " 60%|██████    | 9/15 [00:11<00:07,  1.26s/it]"
     ]
    },
    {
     "name": "stderr",
     "output_type": "stream",
     "text": [
      "\r\n",
      " 67%|██████▋   | 10/15 [00:13<00:06,  1.37s/it]"
     ]
    },
    {
     "name": "stderr",
     "output_type": "stream",
     "text": [
      "\r\n",
      " 73%|███████▎  | 11/15 [00:14<00:05,  1.36s/it]"
     ]
    },
    {
     "name": "stderr",
     "output_type": "stream",
     "text": [
      "\r\n",
      " 80%|████████  | 12/15 [00:15<00:03,  1.32s/it]"
     ]
    },
    {
     "name": "stderr",
     "output_type": "stream",
     "text": [
      "\r\n",
      " 87%|████████▋ | 13/15 [00:16<00:02,  1.30s/it]"
     ]
    },
    {
     "name": "stderr",
     "output_type": "stream",
     "text": [
      "\r\n",
      " 93%|█████████▎| 14/15 [00:18<00:01,  1.38s/it]"
     ]
    },
    {
     "name": "stderr",
     "output_type": "stream",
     "text": [
      "\r\n",
      "100%|██████████| 15/15 [00:19<00:00,  1.36s/it]"
     ]
    },
    {
     "name": "stderr",
     "output_type": "stream",
     "text": [
      "\r\n",
      "100%|██████████| 15/15 [00:19<00:00,  1.32s/it]"
     ]
    },
    {
     "name": "stderr",
     "output_type": "stream",
     "text": [
      "\n"
     ]
    },
    {
     "name": "stderr",
     "output_type": "stream",
     "text": [
      "\r\n",
      "  0%|          | 0/15 [00:00<?, ?it/s]"
     ]
    },
    {
     "name": "stderr",
     "output_type": "stream",
     "text": [
      "\r\n",
      "  7%|▋         | 1/15 [00:01<00:17,  1.26s/it]"
     ]
    },
    {
     "name": "stderr",
     "output_type": "stream",
     "text": [
      "\r\n",
      " 13%|█▎        | 2/15 [00:02<00:16,  1.29s/it]"
     ]
    },
    {
     "name": "stderr",
     "output_type": "stream",
     "text": [
      "\r\n",
      " 20%|██        | 3/15 [00:03<00:15,  1.29s/it]"
     ]
    },
    {
     "name": "stderr",
     "output_type": "stream",
     "text": [
      "\r\n",
      " 27%|██▋       | 4/15 [00:05<00:14,  1.28s/it]"
     ]
    },
    {
     "name": "stderr",
     "output_type": "stream",
     "text": [
      "\r\n",
      " 33%|███▎      | 5/15 [00:06<00:12,  1.28s/it]"
     ]
    },
    {
     "name": "stderr",
     "output_type": "stream",
     "text": [
      "\r\n",
      " 40%|████      | 6/15 [00:07<00:11,  1.28s/it]"
     ]
    },
    {
     "name": "stderr",
     "output_type": "stream",
     "text": [
      "\r\n",
      " 47%|████▋     | 7/15 [00:08<00:10,  1.29s/it]"
     ]
    },
    {
     "name": "stderr",
     "output_type": "stream",
     "text": [
      "\r\n",
      " 53%|█████▎    | 8/15 [00:10<00:09,  1.30s/it]"
     ]
    },
    {
     "name": "stderr",
     "output_type": "stream",
     "text": [
      "\r\n",
      " 60%|██████    | 9/15 [00:11<00:07,  1.32s/it]"
     ]
    },
    {
     "name": "stderr",
     "output_type": "stream",
     "text": [
      "\r\n",
      " 67%|██████▋   | 10/15 [00:13<00:06,  1.34s/it]"
     ]
    },
    {
     "name": "stderr",
     "output_type": "stream",
     "text": [
      "\r\n",
      " 73%|███████▎  | 11/15 [00:14<00:05,  1.33s/it]"
     ]
    },
    {
     "name": "stderr",
     "output_type": "stream",
     "text": [
      "\r\n",
      " 80%|████████  | 12/15 [00:15<00:04,  1.34s/it]"
     ]
    },
    {
     "name": "stderr",
     "output_type": "stream",
     "text": [
      "\r\n",
      " 87%|████████▋ | 13/15 [00:16<00:02,  1.30s/it]"
     ]
    },
    {
     "name": "stderr",
     "output_type": "stream",
     "text": [
      "\r\n",
      " 93%|█████████▎| 14/15 [00:18<00:01,  1.31s/it]"
     ]
    },
    {
     "name": "stderr",
     "output_type": "stream",
     "text": [
      "\r\n",
      "100%|██████████| 15/15 [00:19<00:00,  1.32s/it]"
     ]
    },
    {
     "name": "stderr",
     "output_type": "stream",
     "text": [
      "\r\n",
      "100%|██████████| 15/15 [00:19<00:00,  1.31s/it]"
     ]
    },
    {
     "name": "stderr",
     "output_type": "stream",
     "text": [
      "\n"
     ]
    },
    {
     "name": "stdout",
     "output_type": "stream",
     "text": [
      "\r\n",
      "MMD:   0%|          | 0/100 [00:00<?, ?it/s]"
     ]
    },
    {
     "name": "stdout",
     "output_type": "stream",
     "text": [
      "\r\n",
      "MMD:   0%|          | 0/100 [00:00<?, ?it/s, mean=0.00086]"
     ]
    },
    {
     "name": "stdout",
     "output_type": "stream",
     "text": [
      "\r\n",
      "MMD:   1%|          | 1/100 [00:00<00:31,  3.17it/s, mean=0.00086]"
     ]
    },
    {
     "name": "stdout",
     "output_type": "stream",
     "text": [
      "\r\n",
      "MMD:   1%|          | 1/100 [00:00<00:31,  3.17it/s, mean=0.000974]"
     ]
    },
    {
     "name": "stdout",
     "output_type": "stream",
     "text": [
      "\r\n",
      "MMD:   2%|▏         | 2/100 [00:00<00:31,  3.10it/s, mean=0.000974]"
     ]
    },
    {
     "name": "stdout",
     "output_type": "stream",
     "text": [
      "\r\n",
      "MMD:   2%|▏         | 2/100 [00:00<00:31,  3.10it/s, mean=0.00104] "
     ]
    },
    {
     "name": "stdout",
     "output_type": "stream",
     "text": [
      "\r\n",
      "MMD:   3%|▎         | 3/100 [00:00<00:31,  3.07it/s, mean=0.00104]"
     ]
    },
    {
     "name": "stdout",
     "output_type": "stream",
     "text": [
      "\r\n",
      "MMD:   3%|▎         | 3/100 [00:01<00:31,  3.07it/s, mean=0.001]  "
     ]
    },
    {
     "name": "stdout",
     "output_type": "stream",
     "text": [
      "\r\n",
      "MMD:   4%|▍         | 4/100 [00:01<00:32,  3.00it/s, mean=0.001]"
     ]
    },
    {
     "name": "stdout",
     "output_type": "stream",
     "text": [
      "\r\n",
      "MMD:   4%|▍         | 4/100 [00:01<00:32,  3.00it/s, mean=0.001]"
     ]
    },
    {
     "name": "stdout",
     "output_type": "stream",
     "text": [
      "\r\n",
      "MMD:   5%|▌         | 5/100 [00:01<00:32,  2.88it/s, mean=0.001]"
     ]
    },
    {
     "name": "stdout",
     "output_type": "stream",
     "text": [
      "\r\n",
      "MMD:   5%|▌         | 5/100 [00:02<00:32,  2.88it/s, mean=0.000998]"
     ]
    },
    {
     "name": "stdout",
     "output_type": "stream",
     "text": [
      "\r\n",
      "MMD:   6%|▌         | 6/100 [00:02<00:32,  2.91it/s, mean=0.000998]"
     ]
    },
    {
     "name": "stdout",
     "output_type": "stream",
     "text": [
      "\r\n",
      "MMD:   6%|▌         | 6/100 [00:02<00:32,  2.91it/s, mean=0.00099] "
     ]
    },
    {
     "name": "stdout",
     "output_type": "stream",
     "text": [
      "\r\n",
      "MMD:   7%|▋         | 7/100 [00:02<00:31,  2.96it/s, mean=0.00099]"
     ]
    },
    {
     "name": "stdout",
     "output_type": "stream",
     "text": [
      "\r\n",
      "MMD:   7%|▋         | 7/100 [00:02<00:31,  2.96it/s, mean=0.001]  "
     ]
    },
    {
     "name": "stdout",
     "output_type": "stream",
     "text": [
      "\r\n",
      "MMD:   8%|▊         | 8/100 [00:02<00:32,  2.80it/s, mean=0.001]"
     ]
    },
    {
     "name": "stdout",
     "output_type": "stream",
     "text": [
      "\r\n",
      "MMD:   8%|▊         | 8/100 [00:03<00:32,  2.80it/s, mean=0.000998]"
     ]
    },
    {
     "name": "stdout",
     "output_type": "stream",
     "text": [
      "\r\n",
      "MMD:   9%|▉         | 9/100 [00:03<00:32,  2.76it/s, mean=0.000998]"
     ]
    },
    {
     "name": "stdout",
     "output_type": "stream",
     "text": [
      "\r\n",
      "MMD:   9%|▉         | 9/100 [00:03<00:32,  2.76it/s, mean=0.000967]"
     ]
    },
    {
     "name": "stdout",
     "output_type": "stream",
     "text": [
      "\r\n",
      "MMD:  10%|█         | 10/100 [00:03<00:31,  2.86it/s, mean=0.000967]"
     ]
    },
    {
     "name": "stdout",
     "output_type": "stream",
     "text": [
      "\r\n",
      "MMD:  10%|█         | 10/100 [00:03<00:31,  2.86it/s, mean=0.000963]"
     ]
    },
    {
     "name": "stdout",
     "output_type": "stream",
     "text": [
      "\r\n",
      "MMD:  11%|█         | 11/100 [00:03<00:30,  2.91it/s, mean=0.000963]"
     ]
    },
    {
     "name": "stdout",
     "output_type": "stream",
     "text": [
      "\r\n",
      "MMD:  11%|█         | 11/100 [00:04<00:30,  2.91it/s, mean=0.000988]"
     ]
    },
    {
     "name": "stdout",
     "output_type": "stream",
     "text": [
      "\r\n",
      "MMD:  12%|█▏        | 12/100 [00:04<00:29,  2.97it/s, mean=0.000988]"
     ]
    },
    {
     "name": "stdout",
     "output_type": "stream",
     "text": [
      "\r\n",
      "MMD:  12%|█▏        | 12/100 [00:04<00:29,  2.97it/s, mean=0.000998]"
     ]
    },
    {
     "name": "stdout",
     "output_type": "stream",
     "text": [
      "\r\n",
      "MMD:  13%|█▎        | 13/100 [00:04<00:28,  3.01it/s, mean=0.000998]"
     ]
    },
    {
     "name": "stdout",
     "output_type": "stream",
     "text": [
      "\r\n",
      "MMD:  13%|█▎        | 13/100 [00:04<00:28,  3.01it/s, mean=0.00102] "
     ]
    },
    {
     "name": "stdout",
     "output_type": "stream",
     "text": [
      "\r\n",
      "MMD:  14%|█▍        | 14/100 [00:04<00:28,  3.05it/s, mean=0.00102]"
     ]
    },
    {
     "name": "stdout",
     "output_type": "stream",
     "text": [
      "\r\n",
      "MMD:  14%|█▍        | 14/100 [00:05<00:28,  3.05it/s, mean=0.00103]"
     ]
    },
    {
     "name": "stdout",
     "output_type": "stream",
     "text": [
      "\r\n",
      "MMD:  15%|█▌        | 15/100 [00:05<00:28,  3.03it/s, mean=0.00103]"
     ]
    },
    {
     "name": "stdout",
     "output_type": "stream",
     "text": [
      "\r\n",
      "MMD:  15%|█▌        | 15/100 [00:05<00:28,  3.03it/s, mean=0.00103]"
     ]
    },
    {
     "name": "stdout",
     "output_type": "stream",
     "text": [
      "\r\n",
      "MMD:  16%|█▌        | 16/100 [00:05<00:27,  3.06it/s, mean=0.00103]"
     ]
    },
    {
     "name": "stdout",
     "output_type": "stream",
     "text": [
      "\r\n",
      "MMD:  16%|█▌        | 16/100 [00:05<00:27,  3.06it/s, mean=0.00102]"
     ]
    },
    {
     "name": "stdout",
     "output_type": "stream",
     "text": [
      "\r\n",
      "MMD:  17%|█▋        | 17/100 [00:05<00:26,  3.09it/s, mean=0.00102]"
     ]
    },
    {
     "name": "stdout",
     "output_type": "stream",
     "text": [
      "\r\n",
      "MMD:  17%|█▋        | 17/100 [00:06<00:26,  3.09it/s, mean=0.00102]"
     ]
    },
    {
     "name": "stdout",
     "output_type": "stream",
     "text": [
      "\r\n",
      "MMD:  18%|█▊        | 18/100 [00:06<00:26,  3.11it/s, mean=0.00102]"
     ]
    },
    {
     "name": "stdout",
     "output_type": "stream",
     "text": [
      "\r\n",
      "MMD:  18%|█▊        | 18/100 [00:06<00:26,  3.11it/s, mean=0.00102]"
     ]
    },
    {
     "name": "stdout",
     "output_type": "stream",
     "text": [
      "\r\n",
      "MMD:  19%|█▉        | 19/100 [00:06<00:26,  3.10it/s, mean=0.00102]"
     ]
    },
    {
     "name": "stdout",
     "output_type": "stream",
     "text": [
      "\r\n",
      "MMD:  19%|█▉        | 19/100 [00:06<00:26,  3.10it/s, mean=0.00102]"
     ]
    },
    {
     "name": "stdout",
     "output_type": "stream",
     "text": [
      "\r\n",
      "MMD:  20%|██        | 20/100 [00:06<00:25,  3.10it/s, mean=0.00102]"
     ]
    },
    {
     "name": "stdout",
     "output_type": "stream",
     "text": [
      "\r\n",
      "MMD:  20%|██        | 20/100 [00:06<00:25,  3.10it/s, mean=0.00101]"
     ]
    },
    {
     "name": "stdout",
     "output_type": "stream",
     "text": [
      "\r\n",
      "MMD:  21%|██        | 21/100 [00:06<00:25,  3.12it/s, mean=0.00101]"
     ]
    },
    {
     "name": "stdout",
     "output_type": "stream",
     "text": [
      "\r\n",
      "MMD:  21%|██        | 21/100 [00:07<00:25,  3.12it/s, mean=0.00102]"
     ]
    },
    {
     "name": "stdout",
     "output_type": "stream",
     "text": [
      "\r\n",
      "MMD:  22%|██▏       | 22/100 [00:07<00:24,  3.13it/s, mean=0.00102]"
     ]
    },
    {
     "name": "stdout",
     "output_type": "stream",
     "text": [
      "\r\n",
      "MMD:  22%|██▏       | 22/100 [00:07<00:24,  3.13it/s, mean=0.00101]"
     ]
    },
    {
     "name": "stdout",
     "output_type": "stream",
     "text": [
      "\r\n",
      "MMD:  23%|██▎       | 23/100 [00:07<00:24,  3.15it/s, mean=0.00101]"
     ]
    },
    {
     "name": "stdout",
     "output_type": "stream",
     "text": [
      "\r\n",
      "MMD:  23%|██▎       | 23/100 [00:07<00:24,  3.15it/s, mean=0.00102]"
     ]
    },
    {
     "name": "stdout",
     "output_type": "stream",
     "text": [
      "\r\n",
      "MMD:  24%|██▍       | 24/100 [00:07<00:23,  3.18it/s, mean=0.00102]"
     ]
    },
    {
     "name": "stdout",
     "output_type": "stream",
     "text": [
      "\r\n",
      "MMD:  24%|██▍       | 24/100 [00:08<00:23,  3.18it/s, mean=0.00102]"
     ]
    },
    {
     "name": "stdout",
     "output_type": "stream",
     "text": [
      "\r\n",
      "MMD:  25%|██▌       | 25/100 [00:08<00:23,  3.20it/s, mean=0.00102]"
     ]
    },
    {
     "name": "stdout",
     "output_type": "stream",
     "text": [
      "\r\n",
      "MMD:  25%|██▌       | 25/100 [00:08<00:23,  3.20it/s, mean=0.00102]"
     ]
    },
    {
     "name": "stdout",
     "output_type": "stream",
     "text": [
      "\r\n",
      "MMD:  26%|██▌       | 26/100 [00:08<00:23,  3.20it/s, mean=0.00102]"
     ]
    },
    {
     "name": "stdout",
     "output_type": "stream",
     "text": [
      "\r\n",
      "MMD:  26%|██▌       | 26/100 [00:08<00:23,  3.20it/s, mean=0.00101]"
     ]
    },
    {
     "name": "stdout",
     "output_type": "stream",
     "text": [
      "\r\n",
      "MMD:  27%|██▋       | 27/100 [00:08<00:23,  3.14it/s, mean=0.00101]"
     ]
    },
    {
     "name": "stdout",
     "output_type": "stream",
     "text": [
      "\r\n",
      "MMD:  27%|██▋       | 27/100 [00:09<00:23,  3.14it/s, mean=0.00101]"
     ]
    },
    {
     "name": "stdout",
     "output_type": "stream",
     "text": [
      "\r\n",
      "MMD:  28%|██▊       | 28/100 [00:09<00:23,  3.13it/s, mean=0.00101]"
     ]
    },
    {
     "name": "stdout",
     "output_type": "stream",
     "text": [
      "\r\n",
      "MMD:  28%|██▊       | 28/100 [00:09<00:23,  3.13it/s, mean=0.00101]"
     ]
    },
    {
     "name": "stdout",
     "output_type": "stream",
     "text": [
      "\r\n",
      "MMD:  29%|██▉       | 29/100 [00:09<00:24,  2.86it/s, mean=0.00101]"
     ]
    },
    {
     "name": "stdout",
     "output_type": "stream",
     "text": [
      "\r\n",
      "MMD:  29%|██▉       | 29/100 [00:09<00:24,  2.86it/s, mean=0.001]  "
     ]
    },
    {
     "name": "stdout",
     "output_type": "stream",
     "text": [
      "\r\n",
      "MMD:  30%|███       | 30/100 [00:09<00:24,  2.91it/s, mean=0.001]"
     ]
    },
    {
     "name": "stdout",
     "output_type": "stream",
     "text": [
      "\r\n",
      "MMD:  30%|███       | 30/100 [00:10<00:24,  2.91it/s, mean=0.001]"
     ]
    },
    {
     "name": "stdout",
     "output_type": "stream",
     "text": [
      "\r\n",
      "MMD:  31%|███       | 31/100 [00:10<00:23,  2.89it/s, mean=0.001]"
     ]
    },
    {
     "name": "stdout",
     "output_type": "stream",
     "text": [
      "\r\n",
      "MMD:  31%|███       | 31/100 [00:10<00:23,  2.89it/s, mean=0.00102]"
     ]
    },
    {
     "name": "stdout",
     "output_type": "stream",
     "text": [
      "\r\n",
      "MMD:  32%|███▏      | 32/100 [00:10<00:23,  2.88it/s, mean=0.00102]"
     ]
    },
    {
     "name": "stdout",
     "output_type": "stream",
     "text": [
      "\r\n",
      "MMD:  32%|███▏      | 32/100 [00:10<00:23,  2.88it/s, mean=0.00102]"
     ]
    },
    {
     "name": "stdout",
     "output_type": "stream",
     "text": [
      "\r\n",
      "MMD:  33%|███▎      | 33/100 [00:10<00:22,  2.94it/s, mean=0.00102]"
     ]
    },
    {
     "name": "stdout",
     "output_type": "stream",
     "text": [
      "\r\n",
      "MMD:  33%|███▎      | 33/100 [00:11<00:22,  2.94it/s, mean=0.00101]"
     ]
    },
    {
     "name": "stdout",
     "output_type": "stream",
     "text": [
      "\r\n",
      "MMD:  34%|███▍      | 34/100 [00:11<00:22,  2.92it/s, mean=0.00101]"
     ]
    },
    {
     "name": "stdout",
     "output_type": "stream",
     "text": [
      "\r\n",
      "MMD:  34%|███▍      | 34/100 [00:11<00:22,  2.92it/s, mean=0.00101]"
     ]
    },
    {
     "name": "stdout",
     "output_type": "stream",
     "text": [
      "\r\n",
      "MMD:  35%|███▌      | 35/100 [00:11<00:21,  2.97it/s, mean=0.00101]"
     ]
    },
    {
     "name": "stdout",
     "output_type": "stream",
     "text": [
      "\r\n",
      "MMD:  35%|███▌      | 35/100 [00:11<00:21,  2.97it/s, mean=0.00101]"
     ]
    },
    {
     "name": "stdout",
     "output_type": "stream",
     "text": [
      "\r\n",
      "MMD:  36%|███▌      | 36/100 [00:11<00:21,  2.93it/s, mean=0.00101]"
     ]
    },
    {
     "name": "stdout",
     "output_type": "stream",
     "text": [
      "\r\n",
      "MMD:  36%|███▌      | 36/100 [00:12<00:21,  2.93it/s, mean=0.00101]"
     ]
    },
    {
     "name": "stdout",
     "output_type": "stream",
     "text": [
      "\r\n",
      "MMD:  37%|███▋      | 37/100 [00:12<00:21,  2.96it/s, mean=0.00101]"
     ]
    },
    {
     "name": "stdout",
     "output_type": "stream",
     "text": [
      "\r\n",
      "MMD:  37%|███▋      | 37/100 [00:12<00:21,  2.96it/s, mean=0.00103]"
     ]
    },
    {
     "name": "stdout",
     "output_type": "stream",
     "text": [
      "\r\n",
      "MMD:  38%|███▊      | 38/100 [00:12<00:20,  2.98it/s, mean=0.00103]"
     ]
    },
    {
     "name": "stdout",
     "output_type": "stream",
     "text": [
      "\r\n",
      "MMD:  38%|███▊      | 38/100 [00:12<00:20,  2.98it/s, mean=0.00103]"
     ]
    },
    {
     "name": "stdout",
     "output_type": "stream",
     "text": [
      "\r\n",
      "MMD:  39%|███▉      | 39/100 [00:12<00:20,  3.01it/s, mean=0.00103]"
     ]
    },
    {
     "name": "stdout",
     "output_type": "stream",
     "text": [
      "\r\n",
      "MMD:  39%|███▉      | 39/100 [00:13<00:20,  3.01it/s, mean=0.00104]"
     ]
    },
    {
     "name": "stdout",
     "output_type": "stream",
     "text": [
      "\r\n",
      "MMD:  40%|████      | 40/100 [00:13<00:19,  3.03it/s, mean=0.00104]"
     ]
    },
    {
     "name": "stdout",
     "output_type": "stream",
     "text": [
      "\r\n",
      "MMD:  40%|████      | 40/100 [00:13<00:19,  3.03it/s, mean=0.00104]"
     ]
    },
    {
     "name": "stdout",
     "output_type": "stream",
     "text": [
      "\r\n",
      "MMD:  41%|████      | 41/100 [00:13<00:19,  3.03it/s, mean=0.00104]"
     ]
    },
    {
     "name": "stdout",
     "output_type": "stream",
     "text": [
      "\r\n",
      "MMD:  41%|████      | 41/100 [00:13<00:19,  3.03it/s, mean=0.00104]"
     ]
    },
    {
     "name": "stdout",
     "output_type": "stream",
     "text": [
      "\r\n",
      "MMD:  42%|████▏     | 42/100 [00:13<00:19,  2.98it/s, mean=0.00104]"
     ]
    },
    {
     "name": "stdout",
     "output_type": "stream",
     "text": [
      "\r\n",
      "MMD:  42%|████▏     | 42/100 [00:14<00:19,  2.98it/s, mean=0.00104]"
     ]
    },
    {
     "name": "stdout",
     "output_type": "stream",
     "text": [
      "\r\n",
      "MMD:  43%|████▎     | 43/100 [00:14<00:19,  2.97it/s, mean=0.00104]"
     ]
    },
    {
     "name": "stdout",
     "output_type": "stream",
     "text": [
      "\r\n",
      "MMD:  43%|████▎     | 43/100 [00:14<00:19,  2.97it/s, mean=0.00105]"
     ]
    },
    {
     "name": "stdout",
     "output_type": "stream",
     "text": [
      "\r\n",
      "MMD:  44%|████▍     | 44/100 [00:14<00:18,  2.99it/s, mean=0.00105]"
     ]
    },
    {
     "name": "stdout",
     "output_type": "stream",
     "text": [
      "\r\n",
      "MMD:  44%|████▍     | 44/100 [00:14<00:18,  2.99it/s, mean=0.00104]"
     ]
    },
    {
     "name": "stdout",
     "output_type": "stream",
     "text": [
      "\r\n",
      "MMD:  45%|████▌     | 45/100 [00:14<00:18,  2.97it/s, mean=0.00104]"
     ]
    },
    {
     "name": "stdout",
     "output_type": "stream",
     "text": [
      "\r\n",
      "MMD:  45%|████▌     | 45/100 [00:15<00:18,  2.97it/s, mean=0.00104]"
     ]
    },
    {
     "name": "stdout",
     "output_type": "stream",
     "text": [
      "\r\n",
      "MMD:  46%|████▌     | 46/100 [00:15<00:18,  2.99it/s, mean=0.00104]"
     ]
    },
    {
     "name": "stdout",
     "output_type": "stream",
     "text": [
      "\r\n",
      "MMD:  46%|████▌     | 46/100 [00:15<00:18,  2.99it/s, mean=0.00104]"
     ]
    },
    {
     "name": "stdout",
     "output_type": "stream",
     "text": [
      "\r\n",
      "MMD:  47%|████▋     | 47/100 [00:15<00:17,  3.01it/s, mean=0.00104]"
     ]
    },
    {
     "name": "stdout",
     "output_type": "stream",
     "text": [
      "\r\n",
      "MMD:  47%|████▋     | 47/100 [00:15<00:17,  3.01it/s, mean=0.00105]"
     ]
    },
    {
     "name": "stdout",
     "output_type": "stream",
     "text": [
      "\r\n",
      "MMD:  48%|████▊     | 48/100 [00:15<00:17,  3.03it/s, mean=0.00105]"
     ]
    },
    {
     "name": "stdout",
     "output_type": "stream",
     "text": [
      "\r\n",
      "MMD:  48%|████▊     | 48/100 [00:16<00:17,  3.03it/s, mean=0.00105]"
     ]
    },
    {
     "name": "stdout",
     "output_type": "stream",
     "text": [
      "\r\n",
      "MMD:  49%|████▉     | 49/100 [00:16<00:16,  3.06it/s, mean=0.00105]"
     ]
    },
    {
     "name": "stdout",
     "output_type": "stream",
     "text": [
      "\r\n",
      "MMD:  49%|████▉     | 49/100 [00:16<00:16,  3.06it/s, mean=0.00106]"
     ]
    },
    {
     "name": "stdout",
     "output_type": "stream",
     "text": [
      "\r\n",
      "MMD:  50%|█████     | 50/100 [00:16<00:16,  3.06it/s, mean=0.00106]"
     ]
    },
    {
     "name": "stdout",
     "output_type": "stream",
     "text": [
      "\r\n",
      "MMD:  50%|█████     | 50/100 [00:16<00:16,  3.06it/s, mean=0.00105]"
     ]
    },
    {
     "name": "stdout",
     "output_type": "stream",
     "text": [
      "\r\n",
      "MMD:  51%|█████     | 51/100 [00:16<00:16,  3.06it/s, mean=0.00105]"
     ]
    },
    {
     "name": "stdout",
     "output_type": "stream",
     "text": [
      "\r\n",
      "MMD:  51%|█████     | 51/100 [00:17<00:16,  3.06it/s, mean=0.00106]"
     ]
    },
    {
     "name": "stdout",
     "output_type": "stream",
     "text": [
      "\r\n",
      "MMD:  52%|█████▏    | 52/100 [00:17<00:15,  3.09it/s, mean=0.00106]"
     ]
    },
    {
     "name": "stdout",
     "output_type": "stream",
     "text": [
      "\r\n",
      "MMD:  52%|█████▏    | 52/100 [00:17<00:15,  3.09it/s, mean=0.00106]"
     ]
    },
    {
     "name": "stdout",
     "output_type": "stream",
     "text": [
      "\r\n",
      "MMD:  53%|█████▎    | 53/100 [00:17<00:15,  3.09it/s, mean=0.00106]"
     ]
    },
    {
     "name": "stdout",
     "output_type": "stream",
     "text": [
      "\r\n",
      "MMD:  53%|█████▎    | 53/100 [00:17<00:15,  3.09it/s, mean=0.00106]"
     ]
    },
    {
     "name": "stdout",
     "output_type": "stream",
     "text": [
      "\r\n",
      "MMD:  54%|█████▍    | 54/100 [00:17<00:14,  3.09it/s, mean=0.00106]"
     ]
    },
    {
     "name": "stdout",
     "output_type": "stream",
     "text": [
      "\r\n",
      "MMD:  54%|█████▍    | 54/100 [00:18<00:14,  3.09it/s, mean=0.00106]"
     ]
    },
    {
     "name": "stdout",
     "output_type": "stream",
     "text": [
      "\r\n",
      "MMD:  55%|█████▌    | 55/100 [00:18<00:14,  3.08it/s, mean=0.00106]"
     ]
    },
    {
     "name": "stdout",
     "output_type": "stream",
     "text": [
      "\r\n",
      "MMD:  55%|█████▌    | 55/100 [00:18<00:14,  3.08it/s, mean=0.00106]"
     ]
    },
    {
     "name": "stdout",
     "output_type": "stream",
     "text": [
      "\r\n",
      "MMD:  56%|█████▌    | 56/100 [00:18<00:14,  3.10it/s, mean=0.00106]"
     ]
    },
    {
     "name": "stdout",
     "output_type": "stream",
     "text": [
      "\r\n",
      "MMD:  56%|█████▌    | 56/100 [00:18<00:14,  3.10it/s, mean=0.00106]"
     ]
    },
    {
     "name": "stdout",
     "output_type": "stream",
     "text": [
      "\r\n",
      "MMD:  57%|█████▋    | 57/100 [00:18<00:13,  3.14it/s, mean=0.00106]"
     ]
    },
    {
     "name": "stdout",
     "output_type": "stream",
     "text": [
      "\r\n",
      "MMD:  57%|█████▋    | 57/100 [00:19<00:13,  3.14it/s, mean=0.00105]"
     ]
    },
    {
     "name": "stdout",
     "output_type": "stream",
     "text": [
      "\r\n",
      "MMD:  58%|█████▊    | 58/100 [00:19<00:13,  3.01it/s, mean=0.00105]"
     ]
    },
    {
     "name": "stdout",
     "output_type": "stream",
     "text": [
      "\r\n",
      "MMD:  58%|█████▊    | 58/100 [00:19<00:13,  3.01it/s, mean=0.00105]"
     ]
    },
    {
     "name": "stdout",
     "output_type": "stream",
     "text": [
      "\r\n",
      "MMD:  59%|█████▉    | 59/100 [00:19<00:14,  2.75it/s, mean=0.00105]"
     ]
    },
    {
     "name": "stdout",
     "output_type": "stream",
     "text": [
      "\r\n",
      "MMD:  59%|█████▉    | 59/100 [00:19<00:14,  2.75it/s, mean=0.00106]"
     ]
    },
    {
     "name": "stdout",
     "output_type": "stream",
     "text": [
      "\r\n",
      "MMD:  60%|██████    | 60/100 [00:19<00:13,  2.88it/s, mean=0.00106]"
     ]
    },
    {
     "name": "stdout",
     "output_type": "stream",
     "text": [
      "\r\n",
      "MMD:  60%|██████    | 60/100 [00:20<00:13,  2.88it/s, mean=0.00106]"
     ]
    },
    {
     "name": "stdout",
     "output_type": "stream",
     "text": [
      "\r\n",
      "MMD:  61%|██████    | 61/100 [00:20<00:13,  2.90it/s, mean=0.00106]"
     ]
    },
    {
     "name": "stdout",
     "output_type": "stream",
     "text": [
      "\r\n",
      "MMD:  61%|██████    | 61/100 [00:20<00:13,  2.90it/s, mean=0.00106]"
     ]
    },
    {
     "name": "stdout",
     "output_type": "stream",
     "text": [
      "\r\n",
      "MMD:  62%|██████▏   | 62/100 [00:20<00:13,  2.91it/s, mean=0.00106]"
     ]
    },
    {
     "name": "stdout",
     "output_type": "stream",
     "text": [
      "\r\n",
      "MMD:  62%|██████▏   | 62/100 [00:21<00:13,  2.91it/s, mean=0.00106]"
     ]
    },
    {
     "name": "stdout",
     "output_type": "stream",
     "text": [
      "\r\n",
      "MMD:  63%|██████▎   | 63/100 [00:21<00:12,  2.88it/s, mean=0.00106]"
     ]
    },
    {
     "name": "stdout",
     "output_type": "stream",
     "text": [
      "\r\n",
      "MMD:  63%|██████▎   | 63/100 [00:21<00:12,  2.88it/s, mean=0.00106]"
     ]
    },
    {
     "name": "stdout",
     "output_type": "stream",
     "text": [
      "\r\n",
      "MMD:  64%|██████▍   | 64/100 [00:21<00:12,  2.91it/s, mean=0.00106]"
     ]
    },
    {
     "name": "stdout",
     "output_type": "stream",
     "text": [
      "\r\n",
      "MMD:  64%|██████▍   | 64/100 [00:21<00:12,  2.91it/s, mean=0.00106]"
     ]
    },
    {
     "name": "stdout",
     "output_type": "stream",
     "text": [
      "\r\n",
      "MMD:  65%|██████▌   | 65/100 [00:21<00:11,  2.92it/s, mean=0.00106]"
     ]
    },
    {
     "name": "stdout",
     "output_type": "stream",
     "text": [
      "\r\n",
      "MMD:  65%|██████▌   | 65/100 [00:22<00:11,  2.92it/s, mean=0.00105]"
     ]
    },
    {
     "name": "stdout",
     "output_type": "stream",
     "text": [
      "\r\n",
      "MMD:  66%|██████▌   | 66/100 [00:22<00:11,  2.91it/s, mean=0.00105]"
     ]
    },
    {
     "name": "stdout",
     "output_type": "stream",
     "text": [
      "\r\n",
      "MMD:  66%|██████▌   | 66/100 [00:22<00:11,  2.91it/s, mean=0.00105]"
     ]
    },
    {
     "name": "stdout",
     "output_type": "stream",
     "text": [
      "\r\n",
      "MMD:  67%|██████▋   | 67/100 [00:22<00:11,  2.89it/s, mean=0.00105]"
     ]
    },
    {
     "name": "stdout",
     "output_type": "stream",
     "text": [
      "\r\n",
      "MMD:  67%|██████▋   | 67/100 [00:22<00:11,  2.89it/s, mean=0.00105]"
     ]
    },
    {
     "name": "stdout",
     "output_type": "stream",
     "text": [
      "\r\n",
      "MMD:  68%|██████▊   | 68/100 [00:22<00:10,  2.92it/s, mean=0.00105]"
     ]
    },
    {
     "name": "stdout",
     "output_type": "stream",
     "text": [
      "\r\n",
      "MMD:  68%|██████▊   | 68/100 [00:23<00:10,  2.92it/s, mean=0.00105]"
     ]
    },
    {
     "name": "stdout",
     "output_type": "stream",
     "text": [
      "\r\n",
      "MMD:  69%|██████▉   | 69/100 [00:23<00:10,  2.97it/s, mean=0.00105]"
     ]
    },
    {
     "name": "stdout",
     "output_type": "stream",
     "text": [
      "\r\n",
      "MMD:  69%|██████▉   | 69/100 [00:23<00:10,  2.97it/s, mean=0.00105]"
     ]
    },
    {
     "name": "stdout",
     "output_type": "stream",
     "text": [
      "\r\n",
      "MMD:  70%|███████   | 70/100 [00:23<00:10,  3.00it/s, mean=0.00105]"
     ]
    },
    {
     "name": "stdout",
     "output_type": "stream",
     "text": [
      "\r\n",
      "MMD:  70%|███████   | 70/100 [00:23<00:10,  3.00it/s, mean=0.00105]"
     ]
    },
    {
     "name": "stdout",
     "output_type": "stream",
     "text": [
      "\r\n",
      "MMD:  71%|███████   | 71/100 [00:23<00:09,  2.99it/s, mean=0.00105]"
     ]
    },
    {
     "name": "stdout",
     "output_type": "stream",
     "text": [
      "\r\n",
      "MMD:  71%|███████   | 71/100 [00:24<00:09,  2.99it/s, mean=0.00105]"
     ]
    },
    {
     "name": "stdout",
     "output_type": "stream",
     "text": [
      "\r\n",
      "MMD:  72%|███████▏  | 72/100 [00:24<00:09,  2.98it/s, mean=0.00105]"
     ]
    },
    {
     "name": "stdout",
     "output_type": "stream",
     "text": [
      "\r\n",
      "MMD:  72%|███████▏  | 72/100 [00:24<00:09,  2.98it/s, mean=0.00105]"
     ]
    },
    {
     "name": "stdout",
     "output_type": "stream",
     "text": [
      "\r\n",
      "MMD:  73%|███████▎  | 73/100 [00:24<00:09,  2.92it/s, mean=0.00105]"
     ]
    },
    {
     "name": "stdout",
     "output_type": "stream",
     "text": [
      "\r\n",
      "MMD:  73%|███████▎  | 73/100 [00:24<00:09,  2.92it/s, mean=0.00105]"
     ]
    },
    {
     "name": "stdout",
     "output_type": "stream",
     "text": [
      "\r\n",
      "MMD:  74%|███████▍  | 74/100 [00:24<00:08,  2.90it/s, mean=0.00105]"
     ]
    },
    {
     "name": "stdout",
     "output_type": "stream",
     "text": [
      "\r\n",
      "MMD:  74%|███████▍  | 74/100 [00:25<00:08,  2.90it/s, mean=0.00106]"
     ]
    },
    {
     "name": "stdout",
     "output_type": "stream",
     "text": [
      "\r\n",
      "MMD:  75%|███████▌  | 75/100 [00:25<00:08,  2.87it/s, mean=0.00106]"
     ]
    },
    {
     "name": "stdout",
     "output_type": "stream",
     "text": [
      "\r\n",
      "MMD:  75%|███████▌  | 75/100 [00:25<00:08,  2.87it/s, mean=0.00106]"
     ]
    },
    {
     "name": "stdout",
     "output_type": "stream",
     "text": [
      "\r\n",
      "MMD:  76%|███████▌  | 76/100 [00:25<00:08,  2.88it/s, mean=0.00106]"
     ]
    },
    {
     "name": "stdout",
     "output_type": "stream",
     "text": [
      "\r\n",
      "MMD:  76%|███████▌  | 76/100 [00:25<00:08,  2.88it/s, mean=0.00106]"
     ]
    },
    {
     "name": "stdout",
     "output_type": "stream",
     "text": [
      "\r\n",
      "MMD:  77%|███████▋  | 77/100 [00:25<00:07,  2.98it/s, mean=0.00106]"
     ]
    },
    {
     "name": "stdout",
     "output_type": "stream",
     "text": [
      "\r\n",
      "MMD:  77%|███████▋  | 77/100 [00:26<00:07,  2.98it/s, mean=0.00106]"
     ]
    },
    {
     "name": "stdout",
     "output_type": "stream",
     "text": [
      "\r\n",
      "MMD:  78%|███████▊  | 78/100 [00:26<00:07,  3.05it/s, mean=0.00106]"
     ]
    },
    {
     "name": "stdout",
     "output_type": "stream",
     "text": [
      "\r\n",
      "MMD:  78%|███████▊  | 78/100 [00:26<00:07,  3.05it/s, mean=0.00107]"
     ]
    },
    {
     "name": "stdout",
     "output_type": "stream",
     "text": [
      "\r\n",
      "MMD:  79%|███████▉  | 79/100 [00:26<00:06,  3.11it/s, mean=0.00107]"
     ]
    },
    {
     "name": "stdout",
     "output_type": "stream",
     "text": [
      "\r\n",
      "MMD:  79%|███████▉  | 79/100 [00:26<00:06,  3.11it/s, mean=0.00107]"
     ]
    },
    {
     "name": "stdout",
     "output_type": "stream",
     "text": [
      "\r\n",
      "MMD:  80%|████████  | 80/100 [00:26<00:06,  3.05it/s, mean=0.00107]"
     ]
    },
    {
     "name": "stdout",
     "output_type": "stream",
     "text": [
      "\r\n",
      "MMD:  80%|████████  | 80/100 [00:27<00:06,  3.05it/s, mean=0.00106]"
     ]
    },
    {
     "name": "stdout",
     "output_type": "stream",
     "text": [
      "\r\n",
      "MMD:  81%|████████  | 81/100 [00:27<00:06,  3.00it/s, mean=0.00106]"
     ]
    },
    {
     "name": "stdout",
     "output_type": "stream",
     "text": [
      "\r\n",
      "MMD:  81%|████████  | 81/100 [00:27<00:06,  3.00it/s, mean=0.00107]"
     ]
    },
    {
     "name": "stdout",
     "output_type": "stream",
     "text": [
      "\r\n",
      "MMD:  82%|████████▏ | 82/100 [00:27<00:05,  3.02it/s, mean=0.00107]"
     ]
    },
    {
     "name": "stdout",
     "output_type": "stream",
     "text": [
      "\r\n",
      "MMD:  82%|████████▏ | 82/100 [00:27<00:05,  3.02it/s, mean=0.00107]"
     ]
    },
    {
     "name": "stdout",
     "output_type": "stream",
     "text": [
      "\r\n",
      "MMD:  83%|████████▎ | 83/100 [00:27<00:05,  2.96it/s, mean=0.00107]"
     ]
    },
    {
     "name": "stdout",
     "output_type": "stream",
     "text": [
      "\r\n",
      "MMD:  83%|████████▎ | 83/100 [00:28<00:05,  2.96it/s, mean=0.00107]"
     ]
    },
    {
     "name": "stdout",
     "output_type": "stream",
     "text": [
      "\r\n",
      "MMD:  84%|████████▍ | 84/100 [00:28<00:05,  2.96it/s, mean=0.00107]"
     ]
    },
    {
     "name": "stdout",
     "output_type": "stream",
     "text": [
      "\r\n",
      "MMD:  84%|████████▍ | 84/100 [00:28<00:05,  2.96it/s, mean=0.00107]"
     ]
    },
    {
     "name": "stdout",
     "output_type": "stream",
     "text": [
      "\r\n",
      "MMD:  85%|████████▌ | 85/100 [00:28<00:05,  2.99it/s, mean=0.00107]"
     ]
    },
    {
     "name": "stdout",
     "output_type": "stream",
     "text": [
      "\r\n",
      "MMD:  85%|████████▌ | 85/100 [00:28<00:05,  2.99it/s, mean=0.00107]"
     ]
    },
    {
     "name": "stdout",
     "output_type": "stream",
     "text": [
      "\r\n",
      "MMD:  86%|████████▌ | 86/100 [00:28<00:04,  3.02it/s, mean=0.00107]"
     ]
    },
    {
     "name": "stdout",
     "output_type": "stream",
     "text": [
      "\r\n",
      "MMD:  86%|████████▌ | 86/100 [00:29<00:04,  3.02it/s, mean=0.00107]"
     ]
    },
    {
     "name": "stdout",
     "output_type": "stream",
     "text": [
      "\r\n",
      "MMD:  87%|████████▋ | 87/100 [00:29<00:04,  3.04it/s, mean=0.00107]"
     ]
    },
    {
     "name": "stdout",
     "output_type": "stream",
     "text": [
      "\r\n",
      "MMD:  87%|████████▋ | 87/100 [00:29<00:04,  3.04it/s, mean=0.00107]"
     ]
    },
    {
     "name": "stdout",
     "output_type": "stream",
     "text": [
      "\r\n",
      "MMD:  88%|████████▊ | 88/100 [00:29<00:03,  3.08it/s, mean=0.00107]"
     ]
    },
    {
     "name": "stdout",
     "output_type": "stream",
     "text": [
      "\r\n",
      "MMD:  88%|████████▊ | 88/100 [00:29<00:03,  3.08it/s, mean=0.00106]"
     ]
    },
    {
     "name": "stdout",
     "output_type": "stream",
     "text": [
      "\r\n",
      "MMD:  89%|████████▉ | 89/100 [00:29<00:03,  3.11it/s, mean=0.00106]"
     ]
    },
    {
     "name": "stdout",
     "output_type": "stream",
     "text": [
      "\r\n",
      "MMD:  89%|████████▉ | 89/100 [00:30<00:03,  3.11it/s, mean=0.00106]"
     ]
    },
    {
     "name": "stdout",
     "output_type": "stream",
     "text": [
      "\r\n",
      "MMD:  90%|█████████ | 90/100 [00:30<00:03,  3.13it/s, mean=0.00106]"
     ]
    },
    {
     "name": "stdout",
     "output_type": "stream",
     "text": [
      "\r\n",
      "MMD:  90%|█████████ | 90/100 [00:30<00:03,  3.13it/s, mean=0.00106]"
     ]
    },
    {
     "name": "stdout",
     "output_type": "stream",
     "text": [
      "\r\n",
      "MMD:  91%|█████████ | 91/100 [00:30<00:02,  3.15it/s, mean=0.00106]"
     ]
    },
    {
     "name": "stdout",
     "output_type": "stream",
     "text": [
      "\r\n",
      "MMD:  91%|█████████ | 91/100 [00:30<00:02,  3.15it/s, mean=0.00106]"
     ]
    },
    {
     "name": "stdout",
     "output_type": "stream",
     "text": [
      "\r\n",
      "MMD:  92%|█████████▏| 92/100 [00:30<00:02,  3.16it/s, mean=0.00106]"
     ]
    },
    {
     "name": "stdout",
     "output_type": "stream",
     "text": [
      "\r\n",
      "MMD:  92%|█████████▏| 92/100 [00:30<00:02,  3.16it/s, mean=0.00106]"
     ]
    },
    {
     "name": "stdout",
     "output_type": "stream",
     "text": [
      "\r\n",
      "MMD:  93%|█████████▎| 93/100 [00:30<00:02,  3.16it/s, mean=0.00106]"
     ]
    },
    {
     "name": "stdout",
     "output_type": "stream",
     "text": [
      "\r\n",
      "MMD:  93%|█████████▎| 93/100 [00:31<00:02,  3.16it/s, mean=0.00107]"
     ]
    },
    {
     "name": "stdout",
     "output_type": "stream",
     "text": [
      "\r\n",
      "MMD:  94%|█████████▍| 94/100 [00:31<00:01,  3.16it/s, mean=0.00107]"
     ]
    },
    {
     "name": "stdout",
     "output_type": "stream",
     "text": [
      "\r\n",
      "MMD:  94%|█████████▍| 94/100 [00:31<00:01,  3.16it/s, mean=0.00107]"
     ]
    },
    {
     "name": "stdout",
     "output_type": "stream",
     "text": [
      "\r\n",
      "MMD:  95%|█████████▌| 95/100 [00:31<00:01,  3.16it/s, mean=0.00107]"
     ]
    },
    {
     "name": "stdout",
     "output_type": "stream",
     "text": [
      "\r\n",
      "MMD:  95%|█████████▌| 95/100 [00:31<00:01,  3.16it/s, mean=0.00107]"
     ]
    },
    {
     "name": "stdout",
     "output_type": "stream",
     "text": [
      "\r\n",
      "MMD:  96%|█████████▌| 96/100 [00:31<00:01,  3.12it/s, mean=0.00107]"
     ]
    },
    {
     "name": "stdout",
     "output_type": "stream",
     "text": [
      "\r\n",
      "MMD:  96%|█████████▌| 96/100 [00:32<00:01,  3.12it/s, mean=0.00107]"
     ]
    },
    {
     "name": "stdout",
     "output_type": "stream",
     "text": [
      "\r\n",
      "MMD:  97%|█████████▋| 97/100 [00:32<00:00,  3.14it/s, mean=0.00107]"
     ]
    },
    {
     "name": "stdout",
     "output_type": "stream",
     "text": [
      "\r\n",
      "MMD:  97%|█████████▋| 97/100 [00:32<00:00,  3.14it/s, mean=0.00107]"
     ]
    },
    {
     "name": "stdout",
     "output_type": "stream",
     "text": [
      "\r\n",
      "MMD:  98%|█████████▊| 98/100 [00:32<00:00,  3.18it/s, mean=0.00107]"
     ]
    },
    {
     "name": "stdout",
     "output_type": "stream",
     "text": [
      "\r\n",
      "MMD:  98%|█████████▊| 98/100 [00:32<00:00,  3.18it/s, mean=0.00107]"
     ]
    },
    {
     "name": "stdout",
     "output_type": "stream",
     "text": [
      "\r\n",
      "MMD:  99%|█████████▉| 99/100 [00:32<00:00,  3.20it/s, mean=0.00107]"
     ]
    },
    {
     "name": "stdout",
     "output_type": "stream",
     "text": [
      "\r\n",
      "MMD:  99%|█████████▉| 99/100 [00:33<00:00,  3.20it/s, mean=0.00107]"
     ]
    },
    {
     "name": "stdout",
     "output_type": "stream",
     "text": [
      "\r\n",
      "MMD: 100%|██████████| 100/100 [00:33<00:00,  3.23it/s, mean=0.00107]"
     ]
    },
    {
     "name": "stdout",
     "output_type": "stream",
     "text": [
      "\r\n",
      "MMD: 100%|██████████| 100/100 [00:33<00:00,  3.02it/s, mean=0.00107]"
     ]
    },
    {
     "name": "stdout",
     "output_type": "stream",
     "text": [
      "\n"
     ]
    },
    {
     "name": "stdout",
     "output_type": "stream",
     "text": [
      "(KID score): mean: 0.0010741147455689281, std: 0.0002190523084776357\n"
     ]
    }
   ],
   "source": [
    "kid_scorer = datagym.get_scorer(\"kid_score\", device)\n",
    "score = kid_scorer(image_dataset1, image_dataset2)\n",
    "print(f'(KID score): mean: {score[0]}, std: {score[1]}')"
   ]
  },
  {
   "cell_type": "markdown",
   "metadata": {},
   "source": [
    "##### 具体应用\n",
    "该部分详细介绍 FID, KID 和 IS 的具体应用，并通过这些指标来评估和比较不同生成模型在图像生成质量上的表现。使用了四种模型：flux-dev, flux-schnell, stable-diffusion-3-medium 和 sdxl，对在 LLaVA Pretrain 数据集上随机选取的500个 image-caption 对进行测试。每个模型根据给定的 caption 生成相应的图片，并通过上述三个指标对生成图片的质量进行全面评估。下面提供模型评估结果：\n",
    "\n",
    "| 模型名称                  | Inception Score (IS)               | Fréchet Inception Distance (FID) | Kernel Inception Distance (KID)               |\n",
    "|-------------------------|-----------------------------------|---------------------------------|-----------------------------------------------|\n",
    "| flux-dev                | 7.195 ± 0.809                     | 101.572                         | 0.00903 ± 0.00069                             |\n",
    "| flux-schnell            | 6.193 ± 0.546                     | 102.739                         | 0.00667 ± 0.00055                             |\n",
    "| stable-diffusion-3-medium | 6.740 ± 0.582                     | 100.235                         | 0.00609 ± 0.00056                             |\n",
    "| sdxl                    | 6.809 ± 0.994                     | 112.807                         | 0.01051 ± 0.00065                             |"
   ]
  },
  {
   "cell_type": "markdown",
   "metadata": {},
   "source": []
  }
 ],
 "metadata": {
  "kernelspec": {
   "display_name": "datagym",
   "language": "python",
   "name": "datagym"
  },
  "language_info": {
   "codemirror_mode": {
    "name": "ipython",
    "version": 3
   },
   "file_extension": ".py",
   "mimetype": "text/x-python",
   "name": "python",
   "nbconvert_exporter": "python",
   "pygments_lexer": "ipython3",
   "version": "3.9.19"
  }
 },
 "nbformat": 4,
 "nbformat_minor": 2
}
