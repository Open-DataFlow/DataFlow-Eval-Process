{
 "cells": [
  {
   "cell_type": "markdown",
   "metadata": {},
   "source": [
    "## 编写yaml配置文件"
   ]
  },
  {
   "cell_type": "markdown",
   "metadata": {},
   "source": [
    "对于纯图像数据评估，可编写如下格式的yaml文件，其中data下的配置用于指定数据集的路径和相关信息，scorers下的配置用于指定您想使用的评估指标。\n",
    "```yaml\n",
    "model_cache_path: '../ckpt' # Path to cache models\n",
    "num_workers: 2\n",
    "\n",
    "data:\n",
    "  image:\n",
    "    meta_data_path: \"demos/image_eval/image.json\" # 元数据的存放位置\n",
    "    data_path: \"demos/image_eval/images\" # 图像数据的存放位置\n",
    "    image_key: 'image' # 元数据中图像路径（或图像名）对应的键\n",
    "    id_key: 'id' # 元数据中id对应的键\n",
    "    formatter: 'PureImageFormatter' # image数据固定使用PureImageFormatter\n",
    "\n",
    "scorers:\n",
    "  LiqeScorer:\n",
    "      batch_size: 2\n",
    "      device: \"cuda\"\n",
    "  ArniqaScorer:\n",
    "      batch_size: 2\n",
    "      device: \"cuda\"\n",
    "```\n",
    "\n",
    "以上配置文件对应的元数据（`demos/image_eval/image.json`）如下：\n",
    "```json\n",
    "[\n",
    "    {\n",
    "        \"image\": \"10007903636.jpg\"\n",
    "    },\n",
    "    {\n",
    "        \"image\": \"10089027076.jpg\"\n",
    "    }\n",
    "]\n",
    "```"
   ]
  },
  {
   "cell_type": "markdown",
   "metadata": {},
   "source": [
    "类似的，对于图片-caption数据集，可编写如下格式的yaml文件，其中data下的配置用于指定数据集的路径和相关信息，scorers下的配置用于指定您想使用的评估指标。\n",
    "```yaml\n",
    "model_cache_path: '../ckpt' # Path to cache models\n",
    "num_workers: 2\n",
    "\n",
    "data:\n",
    "  image_caption:\n",
    "    meta_data_path: \"demos/image_eval/image_text.json\" # 元数据的存放位置\n",
    "    data_path: \"demos/image_eval/images\" # 图像数据的存放位置\n",
    "    image_key: 'image' # 元数据中图像路径（或图像名）对应的键\n",
    "    image_caption_key: 'caption' # 元数据中caption对应的键\n",
    "    id_key: 'id' # 元数据中id对应的键\n",
    "    formatter: 'ImageCaptionFormatter' # image数据固定使用ImageCaptionFormatter\n",
    "\n",
    "scorers:\n",
    "  ClipScorer:\n",
    "      batch_size: 2\n",
    "      device: \"cuda\"\n",
    "  LongClipScorer:\n",
    "      model_size: B # For larger models, use L\n",
    "      batch_size: 2\n",
    "      device: \"cuda\"\n",
    "```\n",
    "以上配置文件对应的元数据（`demos/image_eval/image_text.json`）如下：\n",
    "```json\n",
    "[\n",
    "    {\n",
    "        \"image\": \"cake.jpg\",\n",
    "        \"caption\": \"a slice of chocolate cake on a white plate with a fork next to it\"\n",
    "    },\n",
    "    {\n",
    "        \"image\": \"cake.jpg\",\n",
    "        \"caption\": \"a strawberry cake placed on the ground\"\n",
    "    },\n",
    "    {\n",
    "        \"image\": \"giraffe.jpg\",\n",
    "        \"caption\": \"a deer eating grass\"\n",
    "    },\n",
    "    {\n",
    "        \"image\": \"giraffe.jpg\",\n",
    "        \"caption\": \"a giraffe reaching up to eat from a tree\"\n",
    "    }\n",
    "]\n",
    "```"
   ]
  },
  {
   "cell_type": "markdown",
   "metadata": {},
   "source": [
    "## 评估数据集"
   ]
  },
  {
   "cell_type": "markdown",
   "metadata": {},
   "source": [
    "编写好yaml配置文件后，调用 calculate_score() 即可对数据进行评估。"
   ]
  },
  {
   "cell_type": "code",
   "execution_count": null,
   "metadata": {},
   "outputs": [],
   "source": [
    "import sys\n",
    "import os\n",
    "\n",
    "target_dir = os.path.abspath('../..') \n",
    "current_dir = os.getcwd()\n",
    "\n",
    "if current_dir != target_dir:\n",
    "    os.chdir(target_dir)  \n",
    "\n",
    "dataflow_path = os.path.abspath(os.path.join(os.getcwd(), '..', '..')) \n",
    "sys.path.insert(0, dataflow_path)\n",
    "sys.argv = ['notebook', '--config', 'configs/eval/image_text_eval_example.yaml']\n",
    "\n",
    "from dataflow.utils.utils import calculate_score"
   ]
  },
  {
   "cell_type": "code",
   "execution_count": null,
   "metadata": {},
   "outputs": [],
   "source": [
    "calculate_score()"
   ]
  }
 ],
 "metadata": {
  "kernelspec": {
   "display_name": "dg3",
   "language": "python",
   "name": "python3"
  },
  "language_info": {
   "codemirror_mode": {
    "name": "ipython",
    "version": 3
   },
   "file_extension": ".py",
   "mimetype": "text/x-python",
   "name": "python",
   "nbconvert_exporter": "python",
   "pygments_lexer": "ipython3",
   "version": "3.9.19"
  }
 },
 "nbformat": 4,
 "nbformat_minor": 2
}
