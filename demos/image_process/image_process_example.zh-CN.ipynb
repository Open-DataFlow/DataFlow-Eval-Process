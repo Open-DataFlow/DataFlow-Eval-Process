{
 "cells": [
  {
   "cell_type": "markdown",
   "metadata": {},
   "source": [
    "## 编写yaml配置文件"
   ]
  },
  {
   "cell_type": "markdown",
   "metadata": {},
   "source": [
    "编写如下格式的yaml文件，其中data下的配置用于指定数据集的路径和相关信息，processors下的配置用于指定您想使用的处理方法。\n",
    "```yaml\n",
    "model_cache_path: '../ckpt' # Path to cache models\n",
    "num_workers: 2\n",
    "dependencies: [image]\n",
    "\n",
    "data:\n",
    "  image:\n",
    "    meta_data_path: \"demos/image_dedup/image.json\"\n",
    "    data_path: \"demos/image_dedup/images\"\n",
    "    image_key: 'image'\n",
    "    formatter: 'PureImageFormatter'\n",
    "\n",
    "processors:\n",
    "  ImagePHashDeduplicator:\n",
    "    threshold: 13 \n",
    "  ImageDHashDeduplicator:\n",
    "    threshold: 13  \n",
    "  ImageWHashDeduplicator:\n",
    "    threshold: 13 \n",
    "  ImageAHashDeduplicator:\n",
    "    threshold: 13 \n",
    "```"
   ]
  },
  {
   "cell_type": "markdown",
   "metadata": {},
   "source": [
    "## 处理数据集"
   ]
  },
  {
   "cell_type": "markdown",
   "metadata": {},
   "source": [
    "编写好yaml配置文件后，调用 process() 即可对数据进行处理。"
   ]
  },
  {
   "cell_type": "code",
   "execution_count": null,
   "metadata": {},
   "outputs": [],
   "source": [
    "import sys\n",
    "import os\n",
    "\n",
    "target_dir = os.path.abspath('../..') \n",
    "current_dir = os.getcwd()\n",
    "\n",
    "if current_dir != target_dir:\n",
    "    os.chdir(target_dir)  \n",
    "\n",
    "dataflow_path = os.path.abspath(os.path.join(os.getcwd(), '..', '..')) \n",
    "sys.path.insert(0, dataflow_path)\n",
    "sys.argv = ['notebook', '--config', 'configs/process/image_deduplicate.yaml']\n",
    "\n",
    "from dataflow.utils.utils import process"
   ]
  },
  {
   "cell_type": "code",
   "execution_count": null,
   "metadata": {},
   "outputs": [],
   "source": [
    "process()"
   ]
  }
 ],
 "metadata": {
  "kernelspec": {
   "display_name": "dg3",
   "language": "python",
   "name": "python3"
  },
  "language_info": {
   "codemirror_mode": {
    "name": "ipython",
    "version": 3
   },
   "file_extension": ".py",
   "mimetype": "text/x-python",
   "name": "python",
   "nbconvert_exporter": "python",
   "pygments_lexer": "ipython3",
   "version": "3.9.19"
  }
 },
 "nbformat": 4,
 "nbformat_minor": 2
}
